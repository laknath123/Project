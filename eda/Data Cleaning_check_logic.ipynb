{
 "cells": [
  {
   "cell_type": "code",
   "execution_count": null,
   "id": "f038bbf2",
   "metadata": {},
   "outputs": [],
   "source": [
    "'''\n",
    "Note: Tobi added the following code block on 1/26/2022 to update how to access \n",
    "the required data frame for this analysis. I commented out the original data access method,\n",
    "shown below in cell 2.\n",
    "'''\n",
    "\n",
    "#import required libraries\n",
    "import os\n",
    "import pandas as pd\n",
    "import numpy as np\n",
    "\n",
    "#find the current directory\n",
    "current_directory = os.getcwd()\n",
    "\n",
    "#moves up one folder in the file directory (in order to get to the input folder)\n",
    "#path_parent = os.path.dirname(current_directory)\n",
    "path_parent = 'Z:\\PA_SENTENCING_PROJECT\\Project'\n",
    "'''\n",
    "Note about the data:\n",
    "The folder name for the original data files is \"Input\", which contains the following files:\n",
    "1. PSC_data_trimmed.csv: data file containing just the subset of 50 variables\n",
    "2. Main.csv = the original, ~ 2 million dollar entry dataset \n",
    "3. Columns.csv = a datafile containing the subset of columns from the original dataset that we want to use\n",
    "'''\n",
    "#joins the file path together and reads in the data frame\n",
    "\n",
    "df = pd.read_csv(os.path.join(path_parent, \"data\",  \"PSC_data_trimmed.csv\"))\n"
   ]
  },
  {
   "cell_type": "code",
   "execution_count": null,
   "id": "e5111330",
   "metadata": {},
   "outputs": [],
   "source": [
    "df['JPO_ID'].value_counts() "
   ]
  },
  {
   "cell_type": "code",
   "execution_count": 132,
   "id": "6812d957",
   "metadata": {},
   "outputs": [
    {
     "data": {
      "text/plain": [
       "N    533837\n",
       "Y     12847\n",
       "Name: JP_CC_BUG, dtype: int64"
      ]
     },
     "execution_count": 132,
     "metadata": {},
     "output_type": "execute_result"
    }
   ],
   "source": [
    "df['JP_CC_BUG'].value_counts()"
   ]
  },
  {
   "cell_type": "code",
   "execution_count": 133,
   "id": "aaf5f53c",
   "metadata": {},
   "outputs": [
    {
     "data": {
      "text/plain": [
       "0.024065398239537537"
      ]
     },
     "execution_count": 133,
     "metadata": {},
     "output_type": "execute_result"
    }
   ],
   "source": [
    "12847/533837"
   ]
  },
  {
   "cell_type": "markdown",
   "id": "adb453a1",
   "metadata": {},
   "source": [
    "Issue - 1\n",
    "Certain columns have mixed data types. Guessing datatypes are extremely memory intensive. So we need to decide which columns we are going to use, and what data types will contain in those columns "
   ]
  },
  {
   "cell_type": "code",
   "execution_count": 128,
   "id": "ae6885a1",
   "metadata": {},
   "outputs": [
    {
     "name": "stdout",
     "output_type": "stream",
     "text": [
      "OFN_LABEL        object\n",
      "INC_RELATEDTO    object\n",
      "conform          object\n",
      "OFF_CRIMEFREE    object\n",
      "DOB2             object\n",
      "MS_OFFBODY       object\n",
      "MS_SENTJP        object\n",
      "JP_CC_BUG        object\n",
      "ofn_label        object\n",
      "dtype: object\n"
     ]
    },
    {
     "data": {
      "text/plain": [
       "Index(['OFN_LABEL', 'INC_RELATEDTO', 'conform', 'OFF_CRIMEFREE', 'DOB2',\n",
       "       'MS_OFFBODY', 'MS_SENTJP', 'JP_CC_BUG', 'ofn_label'],\n",
       "      dtype='object')"
      ]
     },
     "execution_count": 128,
     "metadata": {},
     "output_type": "execute_result"
    }
   ],
   "source": [
    "print(df.iloc[:,[8,20,40,41,43,44,45,46,47]].dtypes)\n",
    "df.iloc[:,[8,20,40,41,43,44,45,46,47]].columns\n",
    "#https://pandas.pydata.org/docs/reference/api/pandas.errors.DtypeWarning.html"
   ]
  },
  {
   "cell_type": "code",
   "execution_count": 123,
   "id": "7fcf8733",
   "metadata": {},
   "outputs": [
    {
     "data": {
      "text/html": [
       "<div>\n",
       "<style scoped>\n",
       "    .dataframe tbody tr th:only-of-type {\n",
       "        vertical-align: middle;\n",
       "    }\n",
       "\n",
       "    .dataframe tbody tr th {\n",
       "        vertical-align: top;\n",
       "    }\n",
       "\n",
       "    .dataframe thead th {\n",
       "        text-align: right;\n",
       "    }\n",
       "</style>\n",
       "<table border=\"1\" class=\"dataframe\">\n",
       "  <thead>\n",
       "    <tr style=\"text-align: right;\">\n",
       "      <th></th>\n",
       "      <th>index</th>\n",
       "      <th>num_of_missing</th>\n",
       "      <th>missing_perc</th>\n",
       "    </tr>\n",
       "  </thead>\n",
       "  <tbody>\n",
       "    <tr>\n",
       "      <th>43</th>\n",
       "      <td>DOB2</td>\n",
       "      <td>2593144</td>\n",
       "      <td>99.981030</td>\n",
       "    </tr>\n",
       "    <tr>\n",
       "      <th>28</th>\n",
       "      <td>sip</td>\n",
       "      <td>2582795</td>\n",
       "      <td>99.582015</td>\n",
       "    </tr>\n",
       "    <tr>\n",
       "      <th>35</th>\n",
       "      <td>IP_START</td>\n",
       "      <td>2369149</td>\n",
       "      <td>91.344699</td>\n",
       "    </tr>\n",
       "    <tr>\n",
       "      <th>34</th>\n",
       "      <td>IP_END</td>\n",
       "      <td>2369149</td>\n",
       "      <td>91.344699</td>\n",
       "    </tr>\n",
       "    <tr>\n",
       "      <th>47</th>\n",
       "      <td>ofn_label</td>\n",
       "      <td>2325576</td>\n",
       "      <td>89.664702</td>\n",
       "    </tr>\n",
       "    <tr>\n",
       "      <th>41</th>\n",
       "      <td>OFF_CRIMEFREE</td>\n",
       "      <td>2294911</td>\n",
       "      <td>88.482385</td>\n",
       "    </tr>\n",
       "    <tr>\n",
       "      <th>21</th>\n",
       "      <td>INC_RELATEDOTN</td>\n",
       "      <td>2250732</td>\n",
       "      <td>86.779024</td>\n",
       "    </tr>\n",
       "    <tr>\n",
       "      <th>19</th>\n",
       "      <td>INC_RELATIONSHIP</td>\n",
       "      <td>2250620</td>\n",
       "      <td>86.774705</td>\n",
       "    </tr>\n",
       "    <tr>\n",
       "      <th>20</th>\n",
       "      <td>INC_RELATEDTO</td>\n",
       "      <td>2250581</td>\n",
       "      <td>86.773202</td>\n",
       "    </tr>\n",
       "    <tr>\n",
       "      <th>46</th>\n",
       "      <td>JP_CC_BUG</td>\n",
       "      <td>2046952</td>\n",
       "      <td>78.922100</td>\n",
       "    </tr>\n",
       "    <tr>\n",
       "      <th>37</th>\n",
       "      <td>OFF_AGE</td>\n",
       "      <td>1792693</td>\n",
       "      <td>69.118913</td>\n",
       "    </tr>\n",
       "    <tr>\n",
       "      <th>44</th>\n",
       "      <td>MS_OFFBODY</td>\n",
       "      <td>1698015</td>\n",
       "      <td>65.468516</td>\n",
       "    </tr>\n",
       "    <tr>\n",
       "      <th>45</th>\n",
       "      <td>MS_SENTJP</td>\n",
       "      <td>1544326</td>\n",
       "      <td>59.542897</td>\n",
       "    </tr>\n",
       "    <tr>\n",
       "      <th>18</th>\n",
       "      <td>incmax</td>\n",
       "      <td>1468396</td>\n",
       "      <td>56.615346</td>\n",
       "    </tr>\n",
       "    <tr>\n",
       "      <th>17</th>\n",
       "      <td>incmin</td>\n",
       "      <td>1468371</td>\n",
       "      <td>56.614382</td>\n",
       "    </tr>\n",
       "    <tr>\n",
       "      <th>32</th>\n",
       "      <td>INC_END</td>\n",
       "      <td>1466176</td>\n",
       "      <td>56.529752</td>\n",
       "    </tr>\n",
       "    <tr>\n",
       "      <th>33</th>\n",
       "      <td>INC_START</td>\n",
       "      <td>1466176</td>\n",
       "      <td>56.529752</td>\n",
       "    </tr>\n",
       "    <tr>\n",
       "      <th>16</th>\n",
       "      <td>INC_TYPE</td>\n",
       "      <td>1465901</td>\n",
       "      <td>56.519149</td>\n",
       "    </tr>\n",
       "    <tr>\n",
       "      <th>42</th>\n",
       "      <td>SGR_LVL_OGS_PRS</td>\n",
       "      <td>903939</td>\n",
       "      <td>34.852192</td>\n",
       "    </tr>\n",
       "    <tr>\n",
       "      <th>40</th>\n",
       "      <td>conform</td>\n",
       "      <td>900076</td>\n",
       "      <td>34.703251</td>\n",
       "    </tr>\n",
       "    <tr>\n",
       "      <th>39</th>\n",
       "      <td>PCS_OFF_ID</td>\n",
       "      <td>899300</td>\n",
       "      <td>34.673331</td>\n",
       "    </tr>\n",
       "    <tr>\n",
       "      <th>8</th>\n",
       "      <td>OFN_LABEL</td>\n",
       "      <td>268060</td>\n",
       "      <td>10.335298</td>\n",
       "    </tr>\n",
       "    <tr>\n",
       "      <th>7</th>\n",
       "      <td>OFN_COUNT</td>\n",
       "      <td>117141</td>\n",
       "      <td>4.516478</td>\n",
       "    </tr>\n",
       "    <tr>\n",
       "      <th>24</th>\n",
       "      <td>PROB_SANCTION_EXISTS</td>\n",
       "      <td>67998</td>\n",
       "      <td>2.621725</td>\n",
       "    </tr>\n",
       "    <tr>\n",
       "      <th>23</th>\n",
       "      <td>IP_SANCTION_EXISTS</td>\n",
       "      <td>67998</td>\n",
       "      <td>2.621725</td>\n",
       "    </tr>\n",
       "    <tr>\n",
       "      <th>15</th>\n",
       "      <td>INC_SANCTION_EXISTS</td>\n",
       "      <td>67998</td>\n",
       "      <td>2.621725</td>\n",
       "    </tr>\n",
       "    <tr>\n",
       "      <th>30</th>\n",
       "      <td>dof</td>\n",
       "      <td>15965</td>\n",
       "      <td>0.615545</td>\n",
       "    </tr>\n",
       "    <tr>\n",
       "      <th>4</th>\n",
       "      <td>dofage</td>\n",
       "      <td>3905</td>\n",
       "      <td>0.150561</td>\n",
       "    </tr>\n",
       "    <tr>\n",
       "      <th>36</th>\n",
       "      <td>dob</td>\n",
       "      <td>3813</td>\n",
       "      <td>0.147014</td>\n",
       "    </tr>\n",
       "    <tr>\n",
       "      <th>11</th>\n",
       "      <td>ogs</td>\n",
       "      <td>689</td>\n",
       "      <td>0.026565</td>\n",
       "    </tr>\n",
       "    <tr>\n",
       "      <th>12</th>\n",
       "      <td>prs</td>\n",
       "      <td>26</td>\n",
       "      <td>0.001002</td>\n",
       "    </tr>\n",
       "    <tr>\n",
       "      <th>29</th>\n",
       "      <td>MS_SANCTION</td>\n",
       "      <td>11</td>\n",
       "      <td>0.000424</td>\n",
       "    </tr>\n",
       "    <tr>\n",
       "      <th>27</th>\n",
       "      <td>glepoch</td>\n",
       "      <td>10</td>\n",
       "      <td>0.000386</td>\n",
       "    </tr>\n",
       "    <tr>\n",
       "      <th>5</th>\n",
       "      <td>otn</td>\n",
       "      <td>2</td>\n",
       "      <td>0.000077</td>\n",
       "    </tr>\n",
       "    <tr>\n",
       "      <th>13</th>\n",
       "      <td>GUIDELINE_RANGE</td>\n",
       "      <td>1</td>\n",
       "      <td>0.000039</td>\n",
       "    </tr>\n",
       "    <tr>\n",
       "      <th>10</th>\n",
       "      <td>grade</td>\n",
       "      <td>0</td>\n",
       "      <td>0.000000</td>\n",
       "    </tr>\n",
       "    <tr>\n",
       "      <th>2</th>\n",
       "      <td>OFF_SEX</td>\n",
       "      <td>0</td>\n",
       "      <td>0.000000</td>\n",
       "    </tr>\n",
       "    <tr>\n",
       "      <th>3</th>\n",
       "      <td>OFF_RACE</td>\n",
       "      <td>0</td>\n",
       "      <td>0.000000</td>\n",
       "    </tr>\n",
       "    <tr>\n",
       "      <th>6</th>\n",
       "      <td>OFN_TITLE</td>\n",
       "      <td>0</td>\n",
       "      <td>0.000000</td>\n",
       "    </tr>\n",
       "    <tr>\n",
       "      <th>9</th>\n",
       "      <td>OFN_GRADE</td>\n",
       "      <td>0</td>\n",
       "      <td>0.000000</td>\n",
       "    </tr>\n",
       "    <tr>\n",
       "      <th>1</th>\n",
       "      <td>JPR_ID</td>\n",
       "      <td>0</td>\n",
       "      <td>0.000000</td>\n",
       "    </tr>\n",
       "    <tr>\n",
       "      <th>38</th>\n",
       "      <td>id_variable</td>\n",
       "      <td>0</td>\n",
       "      <td>0.000000</td>\n",
       "    </tr>\n",
       "    <tr>\n",
       "      <th>25</th>\n",
       "      <td>county</td>\n",
       "      <td>0</td>\n",
       "      <td>0.000000</td>\n",
       "    </tr>\n",
       "    <tr>\n",
       "      <th>14</th>\n",
       "      <td>SGR_LVL</td>\n",
       "      <td>0</td>\n",
       "      <td>0.000000</td>\n",
       "    </tr>\n",
       "    <tr>\n",
       "      <th>22</th>\n",
       "      <td>STATE_IP</td>\n",
       "      <td>0</td>\n",
       "      <td>0.000000</td>\n",
       "    </tr>\n",
       "    <tr>\n",
       "      <th>31</th>\n",
       "      <td>dos</td>\n",
       "      <td>0</td>\n",
       "      <td>0.000000</td>\n",
       "    </tr>\n",
       "    <tr>\n",
       "      <th>26</th>\n",
       "      <td>JPO_ID</td>\n",
       "      <td>0</td>\n",
       "      <td>0.000000</td>\n",
       "    </tr>\n",
       "    <tr>\n",
       "      <th>0</th>\n",
       "      <td>Unnamed: 0</td>\n",
       "      <td>0</td>\n",
       "      <td>0.000000</td>\n",
       "    </tr>\n",
       "  </tbody>\n",
       "</table>\n",
       "</div>"
      ],
      "text/plain": [
       "                   index  num_of_missing  missing_perc\n",
       "43                  DOB2         2593144     99.981030\n",
       "28                   sip         2582795     99.582015\n",
       "35              IP_START         2369149     91.344699\n",
       "34                IP_END         2369149     91.344699\n",
       "47             ofn_label         2325576     89.664702\n",
       "41         OFF_CRIMEFREE         2294911     88.482385\n",
       "21        INC_RELATEDOTN         2250732     86.779024\n",
       "19      INC_RELATIONSHIP         2250620     86.774705\n",
       "20         INC_RELATEDTO         2250581     86.773202\n",
       "46             JP_CC_BUG         2046952     78.922100\n",
       "37               OFF_AGE         1792693     69.118913\n",
       "44            MS_OFFBODY         1698015     65.468516\n",
       "45             MS_SENTJP         1544326     59.542897\n",
       "18                incmax         1468396     56.615346\n",
       "17                incmin         1468371     56.614382\n",
       "32               INC_END         1466176     56.529752\n",
       "33             INC_START         1466176     56.529752\n",
       "16              INC_TYPE         1465901     56.519149\n",
       "42       SGR_LVL_OGS_PRS          903939     34.852192\n",
       "40               conform          900076     34.703251\n",
       "39            PCS_OFF_ID          899300     34.673331\n",
       "8              OFN_LABEL          268060     10.335298\n",
       "7              OFN_COUNT          117141      4.516478\n",
       "24  PROB_SANCTION_EXISTS           67998      2.621725\n",
       "23    IP_SANCTION_EXISTS           67998      2.621725\n",
       "15   INC_SANCTION_EXISTS           67998      2.621725\n",
       "30                   dof           15965      0.615545\n",
       "4                 dofage            3905      0.150561\n",
       "36                   dob            3813      0.147014\n",
       "11                   ogs             689      0.026565\n",
       "12                   prs              26      0.001002\n",
       "29           MS_SANCTION              11      0.000424\n",
       "27               glepoch              10      0.000386\n",
       "5                    otn               2      0.000077\n",
       "13       GUIDELINE_RANGE               1      0.000039\n",
       "10                 grade               0      0.000000\n",
       "2                OFF_SEX               0      0.000000\n",
       "3               OFF_RACE               0      0.000000\n",
       "6              OFN_TITLE               0      0.000000\n",
       "9              OFN_GRADE               0      0.000000\n",
       "1                 JPR_ID               0      0.000000\n",
       "38           id_variable               0      0.000000\n",
       "25                county               0      0.000000\n",
       "14               SGR_LVL               0      0.000000\n",
       "22              STATE_IP               0      0.000000\n",
       "31                   dos               0      0.000000\n",
       "26                JPO_ID               0      0.000000\n",
       "0             Unnamed: 0               0      0.000000"
      ]
     },
     "execution_count": 123,
     "metadata": {},
     "output_type": "execute_result"
    }
   ],
   "source": [
    "\n",
    "df_missing= df.isna().sum().reset_index(name=\"num_of_missing\").sort_values('num_of_missing', ascending=False)\n",
    "df_missing= df_missing.assign(missing_perc=((df_missing['num_of_missing']/df.shape[0])*100))\n",
    "df_missing\n"
   ]
  },
  {
   "cell_type": "code",
   "execution_count": null,
   "id": "b57d15ee",
   "metadata": {},
   "outputs": [],
   "source": [
    "df[['ofn_label','OFN_LABEL']].tail(10)"
   ]
  },
  {
   "cell_type": "code",
   "execution_count": null,
   "id": "03b8eb73",
   "metadata": {},
   "outputs": [],
   "source": [
    "2593144/df.shape[0]*100"
   ]
  },
  {
   "cell_type": "code",
   "execution_count": null,
   "id": "9d4300ab",
   "metadata": {},
   "outputs": [],
   "source": [
    "# df['ofn_label'].unique()\n",
    "df['conform'].unique()"
   ]
  },
  {
   "cell_type": "code",
   "execution_count": null,
   "id": "e20eae9c",
   "metadata": {},
   "outputs": [],
   "source": [
    "df.head()"
   ]
  },
  {
   "cell_type": "code",
   "execution_count": null,
   "id": "94ea6ea9",
   "metadata": {},
   "outputs": [],
   "source": [
    "df.size"
   ]
  },
  {
   "cell_type": "code",
   "execution_count": null,
   "id": "9752317d",
   "metadata": {},
   "outputs": [],
   "source": [
    "dfc = df.copy()"
   ]
  },
  {
   "cell_type": "markdown",
   "id": "5a328a74",
   "metadata": {},
   "source": [
    "Missing Values in Incaceration End Date"
   ]
  },
  {
   "cell_type": "code",
   "execution_count": null,
   "id": "d7d3a254",
   "metadata": {},
   "outputs": [],
   "source": [
    "dfc.head()['INC_END']"
   ]
  },
  {
   "cell_type": "code",
   "execution_count": null,
   "id": "ae740835",
   "metadata": {},
   "outputs": [],
   "source": [
    "# Number of missing values in incaceration end date\n",
    "dfc[\"INC_END\"].isna().sum()"
   ]
  },
  {
   "cell_type": "code",
   "execution_count": null,
   "id": "e85379d4",
   "metadata": {},
   "outputs": [],
   "source": [
    "df['OFF_SEX'].unique()"
   ]
  },
  {
   "cell_type": "code",
   "execution_count": null,
   "id": "514230cd",
   "metadata": {},
   "outputs": [],
   "source": [
    "dfU = df[df['OFF_SEX']=='U']"
   ]
  },
  {
   "cell_type": "code",
   "execution_count": null,
   "id": "59c84cbf",
   "metadata": {},
   "outputs": [],
   "source": [
    "dfU.head()"
   ]
  },
  {
   "cell_type": "markdown",
   "id": "d4c3730a",
   "metadata": {},
   "source": [
    "Issue- Assigning Numbers to Categorical Variables. Not sure if we need to do it at this stage"
   ]
  },
  {
   "cell_type": "code",
   "execution_count": null,
   "id": "90ac95a3",
   "metadata": {},
   "outputs": [],
   "source": [
    "df[\"OFF_SEX\"].replace({\"F\": 0, \"M\": 1, \"U\":2}, inplace=True)"
   ]
  },
  {
   "cell_type": "code",
   "execution_count": null,
   "id": "e7b417f3",
   "metadata": {},
   "outputs": [],
   "source": [
    "df[df['OFF_SEX'].isnull()==True]"
   ]
  },
  {
   "cell_type": "code",
   "execution_count": null,
   "id": "6ee077fa",
   "metadata": {},
   "outputs": [],
   "source": [
    "df[df['OFF_RACE'].isnull()==True]"
   ]
  },
  {
   "cell_type": "code",
   "execution_count": null,
   "id": "9f8d765d",
   "metadata": {},
   "outputs": [],
   "source": [
    "df['OFF_RACE'].unique()"
   ]
  },
  {
   "cell_type": "code",
   "execution_count": null,
   "id": "fb59272e",
   "metadata": {},
   "outputs": [],
   "source": [
    "df[\"OFF_RACE\"].replace({'Unknown': 0,'White': 1, 'Black':2,'American Indian': 3,'Asian/Pacific Island': 4,'Hispanic':5, 'Other':6}, inplace=True)\n",
    "\n"
   ]
  },
  {
   "cell_type": "markdown",
   "id": "17401018",
   "metadata": {},
   "source": [
    "H-1, and H-2 here refers to Murder 1st and Murder 2nd degree cases. Do we need to Remove these from the dataset"
   ]
  },
  {
   "cell_type": "code",
   "execution_count": null,
   "id": "4b854bfa",
   "metadata": {},
   "outputs": [],
   "source": [
    "\t\n",
    "df[df['OFN_GRADE'].str.contains('H-1')].head()"
   ]
  },
  {
   "cell_type": "code",
   "execution_count": null,
   "id": "9752317d",
   "metadata": {},
   "outputs": [],
   "source": [
    "dfc = df.copy()"
   ]
  },
  {
   "cell_type": "code",
   "execution_count": null,
   "id": "c6e9d72a",
   "metadata": {},
   "outputs": [],
   "source": [
    "df['OFN_GRADE'].unique()"
   ]
  },
  {
   "cell_type": "markdown",
   "id": "c655fbdc",
   "metadata": {},
   "source": [
    "Verified that there are no null values in OFN_GRADE"
   ]
  },
  {
   "cell_type": "code",
   "execution_count": null,
   "id": "d38a72b4",
   "metadata": {},
   "outputs": [],
   "source": [
    "dfc[\"OFN_GRADE\"].isna().sum()"
   ]
  },
  {
   "cell_type": "code",
   "execution_count": null,
   "id": "c0fe1c15",
   "metadata": {},
   "outputs": [],
   "source": [
    "df[df['OFN_GRADE'].isnull()==True]"
   ]
  },
  {
   "cell_type": "code",
   "execution_count": null,
   "id": "bd953b11",
   "metadata": {},
   "outputs": [],
   "source": [
    "#df[\"OFN_GRADE\"].replace({'F': 0,'F-1': 1, 'F-2':2,'F-2':3,'H-1': 4,'H-2': 5,'M': 6, 'M-1':7, 'M-2':8, 'M-3':9}, inplace=True)"
   ]
  },
  {
   "cell_type": "markdown",
   "id": "6a8148ee",
   "metadata": {},
   "source": [
    "Offender age at date of offense (years)\n",
    "(Calculated as DOF minus DOB divided by\n",
    "365.25.) Need to check this manually"
   ]
  },
  {
   "cell_type": "code",
   "execution_count": null,
   "id": "d831afe4",
   "metadata": {},
   "outputs": [],
   "source": [
    "df.head()"
   ]
  },
  {
   "cell_type": "code",
   "execution_count": null,
   "id": "91fffb47",
   "metadata": {},
   "outputs": [],
   "source": [
    "df.columns"
   ]
  },
  {
   "cell_type": "code",
   "execution_count": null,
   "id": "c7bb202c",
   "metadata": {},
   "outputs": [],
   "source": [
    "df[df['grade'].isnull()==True]"
   ]
  },
  {
   "cell_type": "markdown",
   "id": "f5fff8b4",
   "metadata": {},
   "source": [
    "Test to see if this grade matches the ofn_grade"
   ]
  },
  {
   "cell_type": "code",
   "execution_count": null,
   "id": "caec9a8c",
   "metadata": {},
   "outputs": [],
   "source": [
    "df['grade'].unique()"
   ]
  },
  {
   "cell_type": "code",
   "execution_count": null,
   "id": "af8c1776",
   "metadata": {},
   "outputs": [],
   "source": [
    "df['SGR_LVL'].unique()"
   ]
  },
  {
   "cell_type": "code",
   "execution_count": null,
   "id": "1c993746",
   "metadata": {},
   "outputs": [],
   "source": [
    "#df[\"SGR_LVL\"].replace({'nan':''}, inplace=True)\n",
    "\n"
   ]
  },
  {
   "cell_type": "markdown",
   "id": "fed32ab2",
   "metadata": {},
   "source": [
    "## "
   ]
  },
  {
   "cell_type": "code",
   "execution_count": null,
   "id": "da9e43a5",
   "metadata": {},
   "outputs": [],
   "source": [
    "df['SGR_LVL'].unique()"
   ]
  },
  {
   "cell_type": "code",
   "execution_count": null,
   "id": "bb39497c",
   "metadata": {},
   "outputs": [],
   "source": [
    "\n"
   ]
  },
  {
   "cell_type": "code",
   "execution_count": null,
   "id": "7f80d0cb",
   "metadata": {},
   "outputs": [],
   "source": [
    "df['SGR_LVL'] = df['SGR_LVL'].fillna('')"
   ]
  },
  {
   "cell_type": "code",
   "execution_count": null,
   "id": "bf84e594",
   "metadata": {},
   "outputs": [],
   "source": [
    "df['SGR_LVL'].replace({'-': '', '~':''}, inplace=True)"
   ]
  },
  {
   "cell_type": "code",
   "execution_count": null,
   "id": "83a9b716",
   "metadata": {},
   "outputs": [],
   "source": [
    "df['SGR_LVL'].unique()"
   ]
  },
  {
   "cell_type": "code",
   "execution_count": null,
   "id": "017b439a",
   "metadata": {},
   "outputs": [],
   "source": [
    "df['INC_TYPE'].unique()"
   ]
  },
  {
   "cell_type": "code",
   "execution_count": null,
   "id": "7dc53c52",
   "metadata": {},
   "outputs": [],
   "source": [
    "df[\"INC_TYPE\"].replace({'Unknown': 0,'County Facility': 1, 'State Facility':2}, inplace=True)"
   ]
  },
  {
   "cell_type": "code",
   "execution_count": null,
   "id": "7ba4194b",
   "metadata": {},
   "outputs": [],
   "source": [
    "df['INC_TYPE'].unique()"
   ]
  },
  {
   "cell_type": "code",
   "execution_count": null,
   "id": "133ea69f",
   "metadata": {},
   "outputs": [],
   "source": [
    "df['incmin'].unique()"
   ]
  },
  {
   "cell_type": "code",
   "execution_count": null,
   "id": "452ff6a7",
   "metadata": {},
   "outputs": [],
   "source": [
    "df['incmax'].unique()"
   ]
  },
  {
   "cell_type": "code",
   "execution_count": null,
   "id": "4e277503",
   "metadata": {},
   "outputs": [],
   "source": [
    "df['INC_RELATIONSHIP'].unique()"
   ]
  },
  {
   "cell_type": "code",
   "execution_count": null,
   "id": "23e5530f",
   "metadata": {},
   "outputs": [],
   "source": [
    "df['INC_RELATIONSHIP'].replace({'Consecutive':0,'Concurrent':1, 'X':2}, inplace=True)"
   ]
  },
  {
   "cell_type": "code",
   "execution_count": null,
   "id": "bdff2251",
   "metadata": {},
   "outputs": [],
   "source": [
    "df['INC_RELATIONSHIP'].unique()"
   ]
  },
  {
   "cell_type": "code",
   "execution_count": null,
   "id": "bced6c88",
   "metadata": {},
   "outputs": [],
   "source": [
    "df['STATE_IP'].unique()"
   ]
  },
  {
   "cell_type": "code",
   "execution_count": null,
   "id": "c0afec81",
   "metadata": {},
   "outputs": [],
   "source": [
    "df['STATE_IP'].replace({'N': 0,'Y': 1}, inplace=True)"
   ]
  },
  {
   "cell_type": "code",
   "execution_count": null,
   "id": "815f103c",
   "metadata": {},
   "outputs": [],
   "source": [
    "df['IP_SANCTION_EXISTS'].unique()"
   ]
  },
  {
   "cell_type": "code",
   "execution_count": null,
   "id": "b1f95c05",
   "metadata": {},
   "outputs": [],
   "source": [
    "df['IP_SANCTION_EXISTS'].replace({'N': 0,'Y': 1}, inplace=True)"
   ]
  },
  {
   "cell_type": "code",
   "execution_count": null,
   "id": "ea8de232",
   "metadata": {},
   "outputs": [],
   "source": [
    "df['PROB_SANCTION_EXISTS'].unique()\n"
   ]
  },
  {
   "cell_type": "code",
   "execution_count": null,
   "id": "b5e55808",
   "metadata": {},
   "outputs": [],
   "source": [
    "df['PROB_SANCTION_EXISTS'].replace({'N': 0,'Y': 1}, inplace=True)"
   ]
  },
  {
   "cell_type": "code",
   "execution_count": null,
   "id": "8fa6c1b9",
   "metadata": {},
   "outputs": [],
   "source": [
    "df['county'].unique()"
   ]
  },
  {
   "cell_type": "code",
   "execution_count": null,
   "id": "26cd6479",
   "metadata": {},
   "outputs": [],
   "source": [
    "df['INC_SANCTION_EXISTS'].unique()"
   ]
  },
  {
   "cell_type": "code",
   "execution_count": null,
   "id": "0e2ae211",
   "metadata": {},
   "outputs": [],
   "source": [
    "df['INC_SANCTION_EXISTS'].replace({'N': 0,'Y': 1}, inplace=True)"
   ]
  },
  {
   "cell_type": "code",
   "execution_count": null,
   "id": "8ebae9b7",
   "metadata": {},
   "outputs": [],
   "source": [
    "df['county'].replace({'Cambria': 11, 'Chester': 15, 'Bucks':9, 'Allegheny': 2, 'Clarion' :16,\n",
    "       'Westmoreland':65, 'Lehigh':39, 'Philadelphia':51, 'Delaware':23, 'Montgomery':46,\n",
    "       'Crawford':20, 'Washington':63, 'Cumberland':21, 'Franklin':28, 'Lackawanna':35,\n",
    "       'Erie':25, 'Berks':6, 'Dauphin':22, 'York':67, 'Fayette':26, 'Lancaster':36,\n",
    "       'Luzerne':40, 'Schuylkill':54, 'Mercer':43, 'Beaver':4, 'Armstrong':3,\n",
    "       'Venango':61, 'Monroe':45, 'Lebanon':38, 'Carbon':13, 'Northampton':48,\n",
    "       'Northumberland':49, 'Bradford':8, 'Union':60, 'Mifflin':44, 'Wyoming':66,\n",
    "       'Centre':14, 'Susquehanna':58, 'Lawrence':37, 'Greene':30, 'Blair':7, 'Juniata':34,\n",
    "       'Lycoming':41, 'Adams':1, 'Columbia':19, 'Butler':10, 'McKean':42, 'Forest':27,\n",
    "       'Snyder':55, 'Indiana':32, 'Clearfield':17, 'Perry':50, 'Wayne':64, 'Huntingdon':31,\n",
    "       'Tioga':59, 'Somerset':56, 'Clinton':18, 'Elk':24, 'Warren':62, 'Pike':52, 'Fulton':29,\n",
    "       'Montour':47, 'Potter':53, 'Bedford':5, 'Sullivan': 57, 'Jefferson':33, 'Cameron':12,\n",
    "       'PCCD':0}, inplace=True)"
   ]
  },
  {
   "cell_type": "code",
   "execution_count": null,
   "id": "2322ee14",
   "metadata": {},
   "outputs": [],
   "source": [
    "df['county'].unique()"
   ]
  },
  {
   "cell_type": "code",
   "execution_count": null,
   "id": "eb79f7ba",
   "metadata": {},
   "outputs": [],
   "source": [
    "df['MS_SANCTION'].unique()"
   ]
  },
  {
   "cell_type": "code",
   "execution_count": null,
   "id": "767a2e46",
   "metadata": {},
   "outputs": [],
   "source": [
    "df.describe()"
   ]
  },
  {
   "cell_type": "code",
   "execution_count": 98,
   "id": "c9ae46ff",
   "metadata": {},
   "outputs": [
    {
     "data": {
      "text/plain": [
       "Unnamed: 0                int64\n",
       "JPR_ID                    int64\n",
       "OFF_SEX                   int64\n",
       "OFF_RACE                 object\n",
       "dofage                  float64\n",
       "otn                      object\n",
       "OFN_TITLE                 int64\n",
       "OFN_COUNT                object\n",
       "OFN_LABEL                object\n",
       "OFN_GRADE                object\n",
       "grade                     int64\n",
       "ogs                     float64\n",
       "prs                      object\n",
       "GUIDELINE_RANGE          object\n",
       "SGR_LVL                  object\n",
       "INC_SANCTION_EXISTS      object\n",
       "INC_TYPE                 object\n",
       "incmin                  float64\n",
       "incmax                  float64\n",
       "INC_RELATIONSHIP         object\n",
       "INC_RELATEDTO            object\n",
       "INC_RELATEDOTN           object\n",
       "STATE_IP                 object\n",
       "IP_SANCTION_EXISTS       object\n",
       "PROB_SANCTION_EXISTS     object\n",
       "county                   object\n",
       "JPO_ID                    int64\n",
       "glepoch                  object\n",
       "sip                     float64\n",
       "MS_SANCTION             float64\n",
       "dof                      object\n",
       "dos                      object\n",
       "INC_END                  object\n",
       "INC_START                object\n",
       "IP_END                   object\n",
       "IP_START                 object\n",
       "dob                      object\n",
       "OFF_AGE                 float64\n",
       "id_variable               int64\n",
       "PCS_OFF_ID              float64\n",
       "conform                  object\n",
       "OFF_CRIMEFREE            object\n",
       "SGR_LVL_OGS_PRS         float64\n",
       "DOB2                     object\n",
       "MS_OFFBODY               object\n",
       "MS_SENTJP                object\n",
       "JP_CC_BUG                object\n",
       "ofn_label                object\n",
       "dtype: object"
      ]
     },
     "execution_count": 98,
     "metadata": {},
     "output_type": "execute_result"
    }
   ],
   "source": [
    "df.dtypes"
   ]
  },
  {
   "cell_type": "code",
   "execution_count": 99,
   "id": "028fbfce",
   "metadata": {},
   "outputs": [],
   "source": [
    "df['INC_END'] = pd.to_datetime(df['INC_END'])"
   ]
  },
  {
   "cell_type": "code",
   "execution_count": 100,
   "id": "cef0634d",
   "metadata": {},
   "outputs": [],
   "source": [
    "df['INC_START'] = pd.to_datetime(df['INC_START'])"
   ]
  },
  {
   "cell_type": "code",
   "execution_count": 101,
   "id": "1235e1a3",
   "metadata": {},
   "outputs": [],
   "source": [
    "df['IP_END'] = pd.to_datetime(df['IP_END'])"
   ]
  },
  {
   "cell_type": "code",
   "execution_count": 102,
   "id": "ad2ccae4",
   "metadata": {},
   "outputs": [],
   "source": [
    "df['IP_START'] = pd.to_datetime(df['IP_START'])"
   ]
  },
  {
   "cell_type": "code",
   "execution_count": 103,
   "id": "c3821418",
   "metadata": {},
   "outputs": [],
   "source": [
    "df['dob'] = pd.to_datetime(df['dob'])"
   ]
  },
  {
   "cell_type": "code",
   "execution_count": 104,
   "id": "f9dc0be9",
   "metadata": {},
   "outputs": [],
   "source": [
    "df['dos'] = pd.to_datetime(df['dos'])"
   ]
  },
  {
   "cell_type": "code",
   "execution_count": 105,
   "id": "a239a788",
   "metadata": {},
   "outputs": [],
   "source": [
    "df['dof'] = pd.to_datetime(df['dof'])"
   ]
  },
  {
   "cell_type": "code",
   "execution_count": 129,
   "id": "908db6ff",
   "metadata": {},
   "outputs": [
    {
     "data": {
      "text/plain": [
       "INC_START   1972-01-03\n",
       "dob         1972-01-01\n",
       "INC_START   1972-01-03\n",
       "IP_END      2001-01-16\n",
       "dos         2001-01-01\n",
       "dof         1984-11-14\n",
       "dtype: datetime64[ns]"
      ]
     },
     "execution_count": 129,
     "metadata": {},
     "output_type": "execute_result"
    }
   ],
   "source": [
    "#df['INC_START'].max()\n",
    "\n",
    "df[['INC_START','dob','INC_START','IP_END','dos','dof']].min() "
   ]
  },
  {
   "cell_type": "code",
   "execution_count": 127,
   "id": "74669561",
   "metadata": {},
   "outputs": [
    {
     "data": {
      "text/html": [
       "<div>\n",
       "<style scoped>\n",
       "    .dataframe tbody tr th:only-of-type {\n",
       "        vertical-align: middle;\n",
       "    }\n",
       "\n",
       "    .dataframe tbody tr th {\n",
       "        vertical-align: top;\n",
       "    }\n",
       "\n",
       "    .dataframe thead th {\n",
       "        text-align: right;\n",
       "    }\n",
       "</style>\n",
       "<table border=\"1\" class=\"dataframe\">\n",
       "  <thead>\n",
       "    <tr style=\"text-align: right;\">\n",
       "      <th></th>\n",
       "      <th>JPO_ID</th>\n",
       "      <th>INC_START</th>\n",
       "    </tr>\n",
       "  </thead>\n",
       "  <tbody>\n",
       "    <tr>\n",
       "      <th>874</th>\n",
       "      <td>992267</td>\n",
       "      <td>2049-12-31</td>\n",
       "    </tr>\n",
       "    <tr>\n",
       "      <th>878</th>\n",
       "      <td>992266</td>\n",
       "      <td>2039-12-31</td>\n",
       "    </tr>\n",
       "    <tr>\n",
       "      <th>1043</th>\n",
       "      <td>885101</td>\n",
       "      <td>2021-05-07</td>\n",
       "    </tr>\n",
       "    <tr>\n",
       "      <th>1601</th>\n",
       "      <td>868092</td>\n",
       "      <td>2030-01-31</td>\n",
       "    </tr>\n",
       "    <tr>\n",
       "      <th>1602</th>\n",
       "      <td>868090</td>\n",
       "      <td>2021-01-31</td>\n",
       "    </tr>\n",
       "    <tr>\n",
       "      <th>...</th>\n",
       "      <td>...</td>\n",
       "      <td>...</td>\n",
       "    </tr>\n",
       "    <tr>\n",
       "      <th>2593465</th>\n",
       "      <td>9799544</td>\n",
       "      <td>2021-12-30</td>\n",
       "    </tr>\n",
       "    <tr>\n",
       "      <th>2593468</th>\n",
       "      <td>9694659</td>\n",
       "      <td>2020-07-23</td>\n",
       "    </tr>\n",
       "    <tr>\n",
       "      <th>2593543</th>\n",
       "      <td>9755560</td>\n",
       "      <td>2020-05-18</td>\n",
       "    </tr>\n",
       "    <tr>\n",
       "      <th>2593582</th>\n",
       "      <td>9675374</td>\n",
       "      <td>2021-10-22</td>\n",
       "    </tr>\n",
       "    <tr>\n",
       "      <th>2593629</th>\n",
       "      <td>9791248</td>\n",
       "      <td>2024-10-01</td>\n",
       "    </tr>\n",
       "  </tbody>\n",
       "</table>\n",
       "<p>30810 rows × 2 columns</p>\n",
       "</div>"
      ],
      "text/plain": [
       "          JPO_ID  INC_START\n",
       "874       992267 2049-12-31\n",
       "878       992266 2039-12-31\n",
       "1043      885101 2021-05-07\n",
       "1601      868092 2030-01-31\n",
       "1602      868090 2021-01-31\n",
       "...          ...        ...\n",
       "2593465  9799544 2021-12-30\n",
       "2593468  9694659 2020-07-23\n",
       "2593543  9755560 2020-05-18\n",
       "2593582  9675374 2021-10-22\n",
       "2593629  9791248 2024-10-01\n",
       "\n",
       "[30810 rows x 2 columns]"
      ]
     },
     "execution_count": 127,
     "metadata": {},
     "output_type": "execute_result"
    }
   ],
   "source": [
    "\n",
    "mask = (df['INC_START'] > '2019-12-31')\n",
    "test = df.loc[mask]\n",
    "test[['JPO_ID','INC_START']]"
   ]
  },
  {
   "cell_type": "code",
   "execution_count": null,
   "id": "69b549c8",
   "metadata": {},
   "outputs": [],
   "source": [
    "df['INC_END_DAYS'] = (df['INC_END'].sub(pd.to_datetime('01/01/1900'))).dt.days"
   ]
  },
  {
   "cell_type": "code",
   "execution_count": null,
   "id": "f320cc42",
   "metadata": {},
   "outputs": [],
   "source": [
    "df['INC_START_DAYS'] = df['INC_START'].sub(pd.to_datetime('01/01/1900')).dt.days"
   ]
  },
  {
   "cell_type": "code",
   "execution_count": null,
   "id": "051019e9",
   "metadata": {},
   "outputs": [],
   "source": [
    "df['IP_END_DAYS'] = df['IP_END'].sub(pd.to_datetime('01/01/1900')).dt.days"
   ]
  },
  {
   "cell_type": "code",
   "execution_count": null,
   "id": "54053a95",
   "metadata": {},
   "outputs": [],
   "source": [
    "df['IP_START_DAYS'] = df['IP_START'].sub(pd.to_datetime('01/01/1900')).dt.days"
   ]
  },
  {
   "cell_type": "code",
   "execution_count": null,
   "id": "7cf6631b",
   "metadata": {},
   "outputs": [],
   "source": [
    "df['DOB_DAYS'] = df['dob'].sub(pd.to_datetime('01/01/1900')).dt.days"
   ]
  },
  {
   "cell_type": "code",
   "execution_count": null,
   "id": "2edac05b",
   "metadata": {},
   "outputs": [],
   "source": [
    "df['DOS_DAYS'] = df['dos'].sub(pd.to_datetime('01/01/1900')).dt.days"
   ]
  },
  {
   "cell_type": "code",
   "execution_count": null,
   "id": "80e2e716",
   "metadata": {},
   "outputs": [],
   "source": [
    "df['DOF_DAYS'] = df['dof'].sub(pd.to_datetime('01/01/1900')).dt.days"
   ]
  },
  {
   "cell_type": "code",
   "execution_count": null,
   "id": "da202fe4",
   "metadata": {},
   "outputs": [],
   "source": [
    "#df['dob'][df['dob'].isnull() & df['DOB2'].notnull()]\n",
    "df.dob.fillna(df.DOB2, inplace=True)"
   ]
  },
  {
   "cell_type": "code",
   "execution_count": null,
   "id": "5e2eaacd",
   "metadata": {},
   "outputs": [],
   "source": [
    "df.head()"
   ]
  },
  {
   "cell_type": "code",
   "execution_count": null,
   "id": "5155dc9b",
   "metadata": {},
   "outputs": [],
   "source": [
    "df['OFFENSE_YEAR'] = df['dof'].dt.year"
   ]
  },
  {
   "cell_type": "code",
   "execution_count": null,
   "id": "26bad1e4",
   "metadata": {},
   "outputs": [],
   "source": [
    "df['SANCTION_YEAR'] = df['dos'].dt.year"
   ]
  },
  {
   "cell_type": "code",
   "execution_count": null,
   "id": "9edcbac7",
   "metadata": {},
   "outputs": [],
   "source": [
    "df['BIRTH_YEAR'] = df['dob'].dt.year"
   ]
  },
  {
   "cell_type": "code",
   "execution_count": null,
   "id": "e7d1781a",
   "metadata": {},
   "outputs": [],
   "source": [
    "cols = list(df.columns.values)"
   ]
  },
  {
   "cell_type": "code",
   "execution_count": null,
   "id": "724a0c8d",
   "metadata": {},
   "outputs": [],
   "source": []
  },
  {
   "cell_type": "code",
   "execution_count": null,
   "id": "f9fb8db7",
   "metadata": {},
   "outputs": [],
   "source": []
  },
  {
   "cell_type": "code",
   "execution_count": null,
   "id": "75307419",
   "metadata": {},
   "outputs": [],
   "source": [
    "cols = list(df.columns.values)"
   ]
  },
  {
   "cell_type": "code",
   "execution_count": null,
   "id": "1028dd1e",
   "metadata": {},
   "outputs": [],
   "source": [
    "cols"
   ]
  },
  {
   "cell_type": "code",
   "execution_count": null,
   "id": "bb7706cb",
   "metadata": {},
   "outputs": [],
   "source": [
    "df = df[[\n",
    " 'JPR_ID',\n",
    " 'OFF_SEX',\n",
    " 'OFF_RACE',\n",
    " 'dofage',\n",
    " 'otn',\n",
    " 'OFN_TITLE',\n",
    " 'OFN_COUNT',\n",
    " 'OFN_LABEL',\n",
    " 'OFN_GRADE',\n",
    " 'grade',\n",
    " 'ogs',\n",
    " 'prs',\n",
    " 'GUIDELINE_RANGE',\n",
    " 'SGR_LVL',\n",
    " 'INC_SANCTION_EXISTS',\n",
    " 'INC_TYPE',\n",
    " 'incmin',\n",
    " 'incmax',\n",
    " 'INC_RELATIONSHIP',\n",
    " 'INC_RELATEDTO',\n",
    " 'INC_RELATEDOTN',\n",
    " 'STATE_IP',\n",
    " 'IP_SANCTION_EXISTS',\n",
    " 'PROB_SANCTION_EXISTS',\n",
    " 'county',\n",
    " 'JPO_ID',\n",
    " 'glepoch',\n",
    " 'sip',\n",
    " 'MS_SANCTION',\n",
    " 'dof',\n",
    "'DOF_DAYS',\n",
    " 'OFFENSE_YEAR',\n",
    " 'dos',\n",
    "          'DOS_DAYS',\n",
    " 'SANCTION_YEAR',\n",
    " 'INC_END',\n",
    "          'INC_END_DAYS',\n",
    "          'INC_START_DAYS',\n",
    " 'INC_START',\n",
    " 'IP_END',\n",
    "     'IP_END_DAYS',\n",
    " 'IP_START',\n",
    "    \n",
    "\n",
    " 'IP_START_DAYS',\n",
    " 'dob',\n",
    "'DOB_DAYS', 'BIRTH_YEAR',\n",
    " 'OFF_AGE',\n",
    " 'id_variable',\n",
    " 'PCS_OFF_ID',\n",
    " 'conform',\n",
    " 'OFF_CRIMEFREE',\n",
    " 'SGR_LVL_OGS_PRS',\n",
    " 'DOB2',\n",
    " 'MS_OFFBODY',\n",
    " 'MS_SENTJP',\n",
    " 'JP_CC_BUG',\n",
    " 'ofn_label'\n",
    " ]]"
   ]
  },
  {
   "cell_type": "code",
   "execution_count": null,
   "id": "c4f2d4b0",
   "metadata": {},
   "outputs": [],
   "source": [
    "df.to_csv('cleaned.csv')"
   ]
  },
  {
   "cell_type": "code",
   "execution_count": null,
   "id": "d7a85b28",
   "metadata": {},
   "outputs": [],
   "source": []
  }
 ],
 "metadata": {
  "kernelspec": {
   "display_name": "Python 3",
   "language": "python",
   "name": "python3"
  },
  "language_info": {
   "codemirror_mode": {
    "name": "ipython",
    "version": 3
   },
   "file_extension": ".py",
   "mimetype": "text/x-python",
   "name": "python",
   "nbconvert_exporter": "python",
   "pygments_lexer": "ipython3",
   "version": "3.8.3"
  }
 },
 "nbformat": 4,
 "nbformat_minor": 5
}
