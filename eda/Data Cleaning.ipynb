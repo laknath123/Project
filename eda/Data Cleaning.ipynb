{
 "cells": [
  {
   "cell_type": "code",
   "execution_count": 4,
   "id": "f038bbf2",
   "metadata": {},
   "outputs": [
    {
     "name": "stderr",
     "output_type": "stream",
     "text": [
      "C:\\Users\\lakna\\AppData\\Roaming\\Python\\Python38\\site-packages\\IPython\\core\\interactiveshell.py:3251: DtypeWarning: Columns (8,20,40,41,43,44,45,46,47) have mixed types.Specify dtype option on import or set low_memory=False.\n",
      "  exec(code_obj, self.user_global_ns, self.user_ns)\n"
     ]
    }
   ],
   "source": [
    "'''\n",
    "Note: Tobi added the following code block on 1/26/2022 to update how to access \n",
    "the required data frame for this analysis. I commented out the original data access method,\n",
    "shown below in cell 2.\n",
    "'''\n",
    "\n",
    "#import required libraries\n",
    "import os\n",
    "import pandas as pd\n",
    "import numpy as np\n",
    "\n",
    "#find the current directory\n",
    "current_directory = os.getcwd()\n",
    "\n",
    "#moves up one folder in the file directory (in order to get to the input folder)\n",
    "path_parent = os.path.dirname(current_directory)\n",
    "\n",
    "'''\n",
    "Note about the data:\n",
    "The folder name for the original data files is \"Input\", which contains the following files:\n",
    "1. PSC_data_trimmed.csv: data file containing just the subset of 50 variables\n",
    "2. Main.csv = the original, ~ 2 million dollar entry dataset \n",
    "3. Columns.csv = a datafile containing the subset of columns from the original dataset that we want to use\n",
    "'''\n",
    "#joins the file path together and reads in the data frame\n",
    "\n",
    "df = pd.read_csv(os.path.join(path_parent, \"Data\",  \"PSC_data_trimmed.csv\"))\n"
   ]
  },
  {
   "cell_type": "code",
   "execution_count": null,
   "id": "6869b900",
   "metadata": {},
   "outputs": [
    {
     "ename": "",
     "evalue": "",
     "output_type": "error",
     "traceback": [
      "\u001b[1;31mRunning cells with 'Python 3.8.2 64-bit' requires ipykernel package.\n",
      "Run the following command to install 'ipykernel' into the Python environment. \n",
      "Command: '/usr/bin/python3 -m pip install ipykernel -U --user --force-reinstall'"
     ]
    }
   ],
   "source": [
    "#import pandas as pd\n",
    "#df = pd.read_csv ('PSC_data_trimmed.csv')\n"
   ]
  },
  {
   "cell_type": "code",
   "execution_count": 4,
   "id": "e20eae9c",
   "metadata": {},
   "outputs": [
    {
     "data": {
      "text/html": [
       "<div>\n",
       "<style scoped>\n",
       "    .dataframe tbody tr th:only-of-type {\n",
       "        vertical-align: middle;\n",
       "    }\n",
       "\n",
       "    .dataframe tbody tr th {\n",
       "        vertical-align: top;\n",
       "    }\n",
       "\n",
       "    .dataframe thead th {\n",
       "        text-align: right;\n",
       "    }\n",
       "</style>\n",
       "<table border=\"1\" class=\"dataframe\">\n",
       "  <thead>\n",
       "    <tr style=\"text-align: right;\">\n",
       "      <th></th>\n",
       "      <th>Unnamed: 0</th>\n",
       "      <th>JPR_ID</th>\n",
       "      <th>OFF_SEX</th>\n",
       "      <th>OFF_RACE</th>\n",
       "      <th>dofage</th>\n",
       "      <th>otn</th>\n",
       "      <th>OFN_TITLE</th>\n",
       "      <th>OFN_COUNT</th>\n",
       "      <th>OFN_LABEL</th>\n",
       "      <th>OFN_GRADE</th>\n",
       "      <th>...</th>\n",
       "      <th>id_variable</th>\n",
       "      <th>PCS_OFF_ID</th>\n",
       "      <th>conform</th>\n",
       "      <th>OFF_CRIMEFREE</th>\n",
       "      <th>SGR_LVL_OGS_PRS</th>\n",
       "      <th>DOB2</th>\n",
       "      <th>MS_OFFBODY</th>\n",
       "      <th>MS_SENTJP</th>\n",
       "      <th>JP_CC_BUG</th>\n",
       "      <th>ofn_label</th>\n",
       "    </tr>\n",
       "  </thead>\n",
       "  <tbody>\n",
       "    <tr>\n",
       "      <th>0</th>\n",
       "      <td>1</td>\n",
       "      <td>640001</td>\n",
       "      <td>F</td>\n",
       "      <td>White</td>\n",
       "      <td>36.689938</td>\n",
       "      <td>H182628-5</td>\n",
       "      <td>18</td>\n",
       "      <td>1</td>\n",
       "      <td>Corruption of Minors - when of a sexual nature</td>\n",
       "      <td>M-1</td>\n",
       "      <td>...</td>\n",
       "      <td>1904581</td>\n",
       "      <td>NaN</td>\n",
       "      <td>NaN</td>\n",
       "      <td>NaN</td>\n",
       "      <td>NaN</td>\n",
       "      <td>NaN</td>\n",
       "      <td>NaN</td>\n",
       "      <td>NaN</td>\n",
       "      <td>NaN</td>\n",
       "      <td>NaN</td>\n",
       "    </tr>\n",
       "    <tr>\n",
       "      <th>1</th>\n",
       "      <td>2</td>\n",
       "      <td>642480</td>\n",
       "      <td>M</td>\n",
       "      <td>White</td>\n",
       "      <td>18.540726</td>\n",
       "      <td>0</td>\n",
       "      <td>75</td>\n",
       "      <td>1</td>\n",
       "      <td>DUI - M-2</td>\n",
       "      <td>M-2</td>\n",
       "      <td>...</td>\n",
       "      <td>1157226</td>\n",
       "      <td>NaN</td>\n",
       "      <td>NaN</td>\n",
       "      <td>NaN</td>\n",
       "      <td>NaN</td>\n",
       "      <td>NaN</td>\n",
       "      <td>NaN</td>\n",
       "      <td>NaN</td>\n",
       "      <td>NaN</td>\n",
       "      <td>NaN</td>\n",
       "    </tr>\n",
       "    <tr>\n",
       "      <th>2</th>\n",
       "      <td>3</td>\n",
       "      <td>660434</td>\n",
       "      <td>M</td>\n",
       "      <td>White</td>\n",
       "      <td>36.914442</td>\n",
       "      <td>H3618344</td>\n",
       "      <td>75</td>\n",
       "      <td>1</td>\n",
       "      <td>DUI - M-2</td>\n",
       "      <td>M-2</td>\n",
       "      <td>...</td>\n",
       "      <td>1467650</td>\n",
       "      <td>NaN</td>\n",
       "      <td>NaN</td>\n",
       "      <td>NaN</td>\n",
       "      <td>NaN</td>\n",
       "      <td>NaN</td>\n",
       "      <td>NaN</td>\n",
       "      <td>NaN</td>\n",
       "      <td>NaN</td>\n",
       "      <td>NaN</td>\n",
       "    </tr>\n",
       "    <tr>\n",
       "      <th>3</th>\n",
       "      <td>4</td>\n",
       "      <td>628940</td>\n",
       "      <td>M</td>\n",
       "      <td>Black</td>\n",
       "      <td>22.297057</td>\n",
       "      <td>G0816126</td>\n",
       "      <td>18</td>\n",
       "      <td>1</td>\n",
       "      <td>Simple Assault</td>\n",
       "      <td>M-2</td>\n",
       "      <td>...</td>\n",
       "      <td>1746031</td>\n",
       "      <td>NaN</td>\n",
       "      <td>NaN</td>\n",
       "      <td>NaN</td>\n",
       "      <td>NaN</td>\n",
       "      <td>NaN</td>\n",
       "      <td>NaN</td>\n",
       "      <td>NaN</td>\n",
       "      <td>NaN</td>\n",
       "      <td>NaN</td>\n",
       "    </tr>\n",
       "    <tr>\n",
       "      <th>4</th>\n",
       "      <td>5</td>\n",
       "      <td>594048</td>\n",
       "      <td>M</td>\n",
       "      <td>White</td>\n",
       "      <td>40.087611</td>\n",
       "      <td>H240127-6</td>\n",
       "      <td>75</td>\n",
       "      <td>1</td>\n",
       "      <td>DUI - M-1</td>\n",
       "      <td>M-1</td>\n",
       "      <td>...</td>\n",
       "      <td>1374131</td>\n",
       "      <td>NaN</td>\n",
       "      <td>NaN</td>\n",
       "      <td>NaN</td>\n",
       "      <td>NaN</td>\n",
       "      <td>NaN</td>\n",
       "      <td>NaN</td>\n",
       "      <td>NaN</td>\n",
       "      <td>NaN</td>\n",
       "      <td>NaN</td>\n",
       "    </tr>\n",
       "  </tbody>\n",
       "</table>\n",
       "<p>5 rows × 48 columns</p>\n",
       "</div>"
      ],
      "text/plain": [
       "   Unnamed: 0  JPR_ID OFF_SEX OFF_RACE     dofage        otn  OFN_TITLE  \\\n",
       "0           1  640001       F    White  36.689938  H182628-5         18   \n",
       "1           2  642480       M    White  18.540726          0         75   \n",
       "2           3  660434       M    White  36.914442   H3618344         75   \n",
       "3           4  628940       M    Black  22.297057   G0816126         18   \n",
       "4           5  594048       M    White  40.087611  H240127-6         75   \n",
       "\n",
       "  OFN_COUNT                                       OFN_LABEL OFN_GRADE  ...  \\\n",
       "0         1  Corruption of Minors - when of a sexual nature       M-1  ...   \n",
       "1         1                                       DUI - M-2       M-2  ...   \n",
       "2         1                                       DUI - M-2       M-2  ...   \n",
       "3         1                                  Simple Assault       M-2  ...   \n",
       "4         1                                       DUI - M-1       M-1  ...   \n",
       "\n",
       "   id_variable  PCS_OFF_ID conform OFF_CRIMEFREE SGR_LVL_OGS_PRS DOB2  \\\n",
       "0      1904581         NaN     NaN           NaN             NaN  NaN   \n",
       "1      1157226         NaN     NaN           NaN             NaN  NaN   \n",
       "2      1467650         NaN     NaN           NaN             NaN  NaN   \n",
       "3      1746031         NaN     NaN           NaN             NaN  NaN   \n",
       "4      1374131         NaN     NaN           NaN             NaN  NaN   \n",
       "\n",
       "  MS_OFFBODY  MS_SENTJP  JP_CC_BUG ofn_label  \n",
       "0        NaN        NaN        NaN       NaN  \n",
       "1        NaN        NaN        NaN       NaN  \n",
       "2        NaN        NaN        NaN       NaN  \n",
       "3        NaN        NaN        NaN       NaN  \n",
       "4        NaN        NaN        NaN       NaN  \n",
       "\n",
       "[5 rows x 48 columns]"
      ]
     },
     "execution_count": 4,
     "metadata": {},
     "output_type": "execute_result"
    }
   ],
   "source": [
    "df.head()"
   ]
  },
  {
   "cell_type": "code",
   "execution_count": 5,
   "id": "94ea6ea9",
   "metadata": {},
   "outputs": [
    {
     "data": {
      "text/plain": [
       "124494528"
      ]
     },
     "execution_count": 5,
     "metadata": {},
     "output_type": "execute_result"
    }
   ],
   "source": [
    "df.size"
   ]
  },
  {
   "cell_type": "code",
   "execution_count": 6,
   "id": "9752317d",
   "metadata": {},
   "outputs": [],
   "source": [
    "dfc = df.copy()"
   ]
  },
  {
   "cell_type": "code",
   "execution_count": 318,
   "id": "d7d3a254",
   "metadata": {},
   "outputs": [
    {
     "data": {
      "text/plain": [
       "0          NaN\n",
       "1    02 Dec 02\n",
       "2    27 Apr 01\n",
       "3          NaN\n",
       "4    01 Jan 03\n",
       "Name: INC_END, dtype: object"
      ]
     },
     "execution_count": 318,
     "metadata": {},
     "output_type": "execute_result"
    }
   ],
   "source": [
    "dfc.head()['INC_END']"
   ]
  },
  {
   "cell_type": "code",
   "execution_count": 319,
   "id": "e85379d4",
   "metadata": {},
   "outputs": [
    {
     "data": {
      "text/plain": [
       "array(['F', 'M', 'U'], dtype=object)"
      ]
     },
     "execution_count": 319,
     "metadata": {},
     "output_type": "execute_result"
    }
   ],
   "source": [
    "df['OFF_SEX'].unique()"
   ]
  },
  {
   "cell_type": "code",
   "execution_count": 320,
   "id": "514230cd",
   "metadata": {},
   "outputs": [],
   "source": [
    "dfU = df[df['OFF_SEX']=='U']"
   ]
  },
  {
   "cell_type": "code",
   "execution_count": 321,
   "id": "59c84cbf",
   "metadata": {},
   "outputs": [
    {
     "data": {
      "text/html": [
       "<div>\n",
       "<style scoped>\n",
       "    .dataframe tbody tr th:only-of-type {\n",
       "        vertical-align: middle;\n",
       "    }\n",
       "\n",
       "    .dataframe tbody tr th {\n",
       "        vertical-align: top;\n",
       "    }\n",
       "\n",
       "    .dataframe thead th {\n",
       "        text-align: right;\n",
       "    }\n",
       "</style>\n",
       "<table border=\"1\" class=\"dataframe\">\n",
       "  <thead>\n",
       "    <tr style=\"text-align: right;\">\n",
       "      <th></th>\n",
       "      <th>Unnamed: 0</th>\n",
       "      <th>JPR_ID</th>\n",
       "      <th>OFF_SEX</th>\n",
       "      <th>OFF_RACE</th>\n",
       "      <th>dofage</th>\n",
       "      <th>otn</th>\n",
       "      <th>OFN_TITLE</th>\n",
       "      <th>OFN_COUNT</th>\n",
       "      <th>OFN_LABEL</th>\n",
       "      <th>OFN_GRADE</th>\n",
       "      <th>...</th>\n",
       "      <th>id_variable</th>\n",
       "      <th>PCS_OFF_ID</th>\n",
       "      <th>conform</th>\n",
       "      <th>OFF_CRIMEFREE</th>\n",
       "      <th>SGR_LVL_OGS_PRS</th>\n",
       "      <th>DOB2</th>\n",
       "      <th>MS_OFFBODY</th>\n",
       "      <th>MS_SENTJP</th>\n",
       "      <th>JP_CC_BUG</th>\n",
       "      <th>ofn_label</th>\n",
       "    </tr>\n",
       "  </thead>\n",
       "  <tbody>\n",
       "    <tr>\n",
       "      <th>18</th>\n",
       "      <td>19</td>\n",
       "      <td>665877</td>\n",
       "      <td>U</td>\n",
       "      <td>Black</td>\n",
       "      <td>23.561944</td>\n",
       "      <td>M910065-2</td>\n",
       "      <td>35</td>\n",
       "      <td>1</td>\n",
       "      <td>Possession With Intent to Deliver: Drug Unknown</td>\n",
       "      <td>F</td>\n",
       "      <td>...</td>\n",
       "      <td>1640630</td>\n",
       "      <td>NaN</td>\n",
       "      <td>NaN</td>\n",
       "      <td>NaN</td>\n",
       "      <td>NaN</td>\n",
       "      <td>NaN</td>\n",
       "      <td>NaN</td>\n",
       "      <td>NaN</td>\n",
       "      <td>NaN</td>\n",
       "      <td>NaN</td>\n",
       "    </tr>\n",
       "    <tr>\n",
       "      <th>19</th>\n",
       "      <td>20</td>\n",
       "      <td>665877</td>\n",
       "      <td>U</td>\n",
       "      <td>Black</td>\n",
       "      <td>25.864476</td>\n",
       "      <td>0</td>\n",
       "      <td>35</td>\n",
       "      <td>1</td>\n",
       "      <td>Possession With Intent to Deliver: Drug Unknown</td>\n",
       "      <td>F</td>\n",
       "      <td>...</td>\n",
       "      <td>1640630</td>\n",
       "      <td>NaN</td>\n",
       "      <td>NaN</td>\n",
       "      <td>NaN</td>\n",
       "      <td>NaN</td>\n",
       "      <td>NaN</td>\n",
       "      <td>NaN</td>\n",
       "      <td>NaN</td>\n",
       "      <td>NaN</td>\n",
       "      <td>NaN</td>\n",
       "    </tr>\n",
       "    <tr>\n",
       "      <th>31</th>\n",
       "      <td>32</td>\n",
       "      <td>596175</td>\n",
       "      <td>U</td>\n",
       "      <td>Unknown</td>\n",
       "      <td>23.219713</td>\n",
       "      <td>H109123-0</td>\n",
       "      <td>18</td>\n",
       "      <td>3</td>\n",
       "      <td>Theft - Deception; $200 - $2,000</td>\n",
       "      <td>M-1</td>\n",
       "      <td>...</td>\n",
       "      <td>1516869</td>\n",
       "      <td>NaN</td>\n",
       "      <td>NaN</td>\n",
       "      <td>NaN</td>\n",
       "      <td>NaN</td>\n",
       "      <td>NaN</td>\n",
       "      <td>NaN</td>\n",
       "      <td>NaN</td>\n",
       "      <td>NaN</td>\n",
       "      <td>NaN</td>\n",
       "    </tr>\n",
       "    <tr>\n",
       "      <th>54</th>\n",
       "      <td>55</td>\n",
       "      <td>660950</td>\n",
       "      <td>U</td>\n",
       "      <td>Unknown</td>\n",
       "      <td>27.526352</td>\n",
       "      <td>H224606-4</td>\n",
       "      <td>18</td>\n",
       "      <td>1</td>\n",
       "      <td>Forgery - Other</td>\n",
       "      <td>M-1</td>\n",
       "      <td>...</td>\n",
       "      <td>1371759</td>\n",
       "      <td>NaN</td>\n",
       "      <td>NaN</td>\n",
       "      <td>NaN</td>\n",
       "      <td>NaN</td>\n",
       "      <td>NaN</td>\n",
       "      <td>NaN</td>\n",
       "      <td>NaN</td>\n",
       "      <td>NaN</td>\n",
       "      <td>NaN</td>\n",
       "    </tr>\n",
       "    <tr>\n",
       "      <th>55</th>\n",
       "      <td>56</td>\n",
       "      <td>660950</td>\n",
       "      <td>U</td>\n",
       "      <td>Unknown</td>\n",
       "      <td>27.534565</td>\n",
       "      <td>H224603-1</td>\n",
       "      <td>18</td>\n",
       "      <td>1</td>\n",
       "      <td>Forgery - Other</td>\n",
       "      <td>M-1</td>\n",
       "      <td>...</td>\n",
       "      <td>1371759</td>\n",
       "      <td>NaN</td>\n",
       "      <td>NaN</td>\n",
       "      <td>NaN</td>\n",
       "      <td>NaN</td>\n",
       "      <td>NaN</td>\n",
       "      <td>NaN</td>\n",
       "      <td>NaN</td>\n",
       "      <td>NaN</td>\n",
       "      <td>NaN</td>\n",
       "    </tr>\n",
       "  </tbody>\n",
       "</table>\n",
       "<p>5 rows × 48 columns</p>\n",
       "</div>"
      ],
      "text/plain": [
       "    Unnamed: 0  JPR_ID OFF_SEX OFF_RACE     dofage        otn  OFN_TITLE  \\\n",
       "18          19  665877       U    Black  23.561944  M910065-2         35   \n",
       "19          20  665877       U    Black  25.864476          0         35   \n",
       "31          32  596175       U  Unknown  23.219713  H109123-0         18   \n",
       "54          55  660950       U  Unknown  27.526352  H224606-4         18   \n",
       "55          56  660950       U  Unknown  27.534565  H224603-1         18   \n",
       "\n",
       "   OFN_COUNT                                        OFN_LABEL OFN_GRADE  ...  \\\n",
       "18         1  Possession With Intent to Deliver: Drug Unknown         F  ...   \n",
       "19         1  Possession With Intent to Deliver: Drug Unknown         F  ...   \n",
       "31         3                 Theft - Deception; $200 - $2,000       M-1  ...   \n",
       "54         1                                  Forgery - Other       M-1  ...   \n",
       "55         1                                  Forgery - Other       M-1  ...   \n",
       "\n",
       "    id_variable  PCS_OFF_ID conform OFF_CRIMEFREE SGR_LVL_OGS_PRS DOB2  \\\n",
       "18      1640630         NaN     NaN           NaN             NaN  NaN   \n",
       "19      1640630         NaN     NaN           NaN             NaN  NaN   \n",
       "31      1516869         NaN     NaN           NaN             NaN  NaN   \n",
       "54      1371759         NaN     NaN           NaN             NaN  NaN   \n",
       "55      1371759         NaN     NaN           NaN             NaN  NaN   \n",
       "\n",
       "   MS_OFFBODY  MS_SENTJP  JP_CC_BUG ofn_label  \n",
       "18        NaN        NaN        NaN       NaN  \n",
       "19        NaN        NaN        NaN       NaN  \n",
       "31        NaN        NaN        NaN       NaN  \n",
       "54        NaN        NaN        NaN       NaN  \n",
       "55        NaN        NaN        NaN       NaN  \n",
       "\n",
       "[5 rows x 48 columns]"
      ]
     },
     "execution_count": 321,
     "metadata": {},
     "output_type": "execute_result"
    }
   ],
   "source": [
    "dfU.head()"
   ]
  },
  {
   "cell_type": "code",
   "execution_count": 322,
   "id": "90ac95a3",
   "metadata": {},
   "outputs": [],
   "source": [
    "df[\"OFF_SEX\"].replace({\"F\": 0, \"M\": 1, \"U\":2}, inplace=True)"
   ]
  },
  {
   "cell_type": "code",
   "execution_count": 323,
   "id": "e7b417f3",
   "metadata": {},
   "outputs": [
    {
     "data": {
      "text/html": [
       "<div>\n",
       "<style scoped>\n",
       "    .dataframe tbody tr th:only-of-type {\n",
       "        vertical-align: middle;\n",
       "    }\n",
       "\n",
       "    .dataframe tbody tr th {\n",
       "        vertical-align: top;\n",
       "    }\n",
       "\n",
       "    .dataframe thead th {\n",
       "        text-align: right;\n",
       "    }\n",
       "</style>\n",
       "<table border=\"1\" class=\"dataframe\">\n",
       "  <thead>\n",
       "    <tr style=\"text-align: right;\">\n",
       "      <th></th>\n",
       "      <th>Unnamed: 0</th>\n",
       "      <th>JPR_ID</th>\n",
       "      <th>OFF_SEX</th>\n",
       "      <th>OFF_RACE</th>\n",
       "      <th>dofage</th>\n",
       "      <th>otn</th>\n",
       "      <th>OFN_TITLE</th>\n",
       "      <th>OFN_COUNT</th>\n",
       "      <th>OFN_LABEL</th>\n",
       "      <th>OFN_GRADE</th>\n",
       "      <th>...</th>\n",
       "      <th>id_variable</th>\n",
       "      <th>PCS_OFF_ID</th>\n",
       "      <th>conform</th>\n",
       "      <th>OFF_CRIMEFREE</th>\n",
       "      <th>SGR_LVL_OGS_PRS</th>\n",
       "      <th>DOB2</th>\n",
       "      <th>MS_OFFBODY</th>\n",
       "      <th>MS_SENTJP</th>\n",
       "      <th>JP_CC_BUG</th>\n",
       "      <th>ofn_label</th>\n",
       "    </tr>\n",
       "  </thead>\n",
       "  <tbody>\n",
       "  </tbody>\n",
       "</table>\n",
       "<p>0 rows × 48 columns</p>\n",
       "</div>"
      ],
      "text/plain": [
       "Empty DataFrame\n",
       "Columns: [Unnamed: 0, JPR_ID, OFF_SEX, OFF_RACE, dofage, otn, OFN_TITLE, OFN_COUNT, OFN_LABEL, OFN_GRADE, grade, ogs, prs, GUIDELINE_RANGE, SGR_LVL, INC_SANCTION_EXISTS, INC_TYPE, incmin, incmax, INC_RELATIONSHIP, INC_RELATEDTO, INC_RELATEDOTN, STATE_IP, IP_SANCTION_EXISTS, PROB_SANCTION_EXISTS, county, JPO_ID, glepoch, sip, MS_SANCTION, dof, dos, INC_END, INC_START, IP_END, IP_START, dob, OFF_AGE, id_variable, PCS_OFF_ID, conform, OFF_CRIMEFREE, SGR_LVL_OGS_PRS, DOB2, MS_OFFBODY, MS_SENTJP, JP_CC_BUG, ofn_label]\n",
       "Index: []\n",
       "\n",
       "[0 rows x 48 columns]"
      ]
     },
     "execution_count": 323,
     "metadata": {},
     "output_type": "execute_result"
    }
   ],
   "source": [
    "df[df['OFF_SEX'].isnull()==True]"
   ]
  },
  {
   "cell_type": "code",
   "execution_count": 324,
   "id": "6ee077fa",
   "metadata": {},
   "outputs": [
    {
     "data": {
      "text/html": [
       "<div>\n",
       "<style scoped>\n",
       "    .dataframe tbody tr th:only-of-type {\n",
       "        vertical-align: middle;\n",
       "    }\n",
       "\n",
       "    .dataframe tbody tr th {\n",
       "        vertical-align: top;\n",
       "    }\n",
       "\n",
       "    .dataframe thead th {\n",
       "        text-align: right;\n",
       "    }\n",
       "</style>\n",
       "<table border=\"1\" class=\"dataframe\">\n",
       "  <thead>\n",
       "    <tr style=\"text-align: right;\">\n",
       "      <th></th>\n",
       "      <th>Unnamed: 0</th>\n",
       "      <th>JPR_ID</th>\n",
       "      <th>OFF_SEX</th>\n",
       "      <th>OFF_RACE</th>\n",
       "      <th>dofage</th>\n",
       "      <th>otn</th>\n",
       "      <th>OFN_TITLE</th>\n",
       "      <th>OFN_COUNT</th>\n",
       "      <th>OFN_LABEL</th>\n",
       "      <th>OFN_GRADE</th>\n",
       "      <th>...</th>\n",
       "      <th>id_variable</th>\n",
       "      <th>PCS_OFF_ID</th>\n",
       "      <th>conform</th>\n",
       "      <th>OFF_CRIMEFREE</th>\n",
       "      <th>SGR_LVL_OGS_PRS</th>\n",
       "      <th>DOB2</th>\n",
       "      <th>MS_OFFBODY</th>\n",
       "      <th>MS_SENTJP</th>\n",
       "      <th>JP_CC_BUG</th>\n",
       "      <th>ofn_label</th>\n",
       "    </tr>\n",
       "  </thead>\n",
       "  <tbody>\n",
       "  </tbody>\n",
       "</table>\n",
       "<p>0 rows × 48 columns</p>\n",
       "</div>"
      ],
      "text/plain": [
       "Empty DataFrame\n",
       "Columns: [Unnamed: 0, JPR_ID, OFF_SEX, OFF_RACE, dofage, otn, OFN_TITLE, OFN_COUNT, OFN_LABEL, OFN_GRADE, grade, ogs, prs, GUIDELINE_RANGE, SGR_LVL, INC_SANCTION_EXISTS, INC_TYPE, incmin, incmax, INC_RELATIONSHIP, INC_RELATEDTO, INC_RELATEDOTN, STATE_IP, IP_SANCTION_EXISTS, PROB_SANCTION_EXISTS, county, JPO_ID, glepoch, sip, MS_SANCTION, dof, dos, INC_END, INC_START, IP_END, IP_START, dob, OFF_AGE, id_variable, PCS_OFF_ID, conform, OFF_CRIMEFREE, SGR_LVL_OGS_PRS, DOB2, MS_OFFBODY, MS_SENTJP, JP_CC_BUG, ofn_label]\n",
       "Index: []\n",
       "\n",
       "[0 rows x 48 columns]"
      ]
     },
     "execution_count": 324,
     "metadata": {},
     "output_type": "execute_result"
    }
   ],
   "source": [
    "df[df['OFF_RACE'].isnull()==True]"
   ]
  },
  {
   "cell_type": "code",
   "execution_count": 325,
   "id": "9f8d765d",
   "metadata": {},
   "outputs": [
    {
     "data": {
      "text/plain": [
       "array(['White', 'Black', 'Unknown', 'Other', 'Hispanic',\n",
       "       'American Indian', 'Asian/Pacific Island'], dtype=object)"
      ]
     },
     "execution_count": 325,
     "metadata": {},
     "output_type": "execute_result"
    }
   ],
   "source": [
    "df['OFF_RACE'].unique()"
   ]
  },
  {
   "cell_type": "code",
   "execution_count": 326,
   "id": "fb59272e",
   "metadata": {},
   "outputs": [],
   "source": [
    "df[\"OFF_RACE\"].replace({'Unknown': 0,'White': 1, 'Black':2,'American Indian': 3,'Asian/Pacific Island': 4,'Hispanic':5, 'Other':6}, inplace=True)\n",
    "\n"
   ]
  },
  {
   "cell_type": "code",
   "execution_count": 327,
   "id": "c6e9d72a",
   "metadata": {},
   "outputs": [
    {
     "data": {
      "text/plain": [
       "array(['M-1', 'M-2', 'F', 'F-3', 'F-2', 'M-3', 'M', 'F-1', 'H-2', 'H-1'],\n",
       "      dtype=object)"
      ]
     },
     "execution_count": 327,
     "metadata": {},
     "output_type": "execute_result"
    }
   ],
   "source": [
    "df['OFN_GRADE'].unique()"
   ]
  },
  {
   "cell_type": "code",
   "execution_count": 328,
   "id": "c0fe1c15",
   "metadata": {},
   "outputs": [
    {
     "data": {
      "text/html": [
       "<div>\n",
       "<style scoped>\n",
       "    .dataframe tbody tr th:only-of-type {\n",
       "        vertical-align: middle;\n",
       "    }\n",
       "\n",
       "    .dataframe tbody tr th {\n",
       "        vertical-align: top;\n",
       "    }\n",
       "\n",
       "    .dataframe thead th {\n",
       "        text-align: right;\n",
       "    }\n",
       "</style>\n",
       "<table border=\"1\" class=\"dataframe\">\n",
       "  <thead>\n",
       "    <tr style=\"text-align: right;\">\n",
       "      <th></th>\n",
       "      <th>Unnamed: 0</th>\n",
       "      <th>JPR_ID</th>\n",
       "      <th>OFF_SEX</th>\n",
       "      <th>OFF_RACE</th>\n",
       "      <th>dofage</th>\n",
       "      <th>otn</th>\n",
       "      <th>OFN_TITLE</th>\n",
       "      <th>OFN_COUNT</th>\n",
       "      <th>OFN_LABEL</th>\n",
       "      <th>OFN_GRADE</th>\n",
       "      <th>...</th>\n",
       "      <th>id_variable</th>\n",
       "      <th>PCS_OFF_ID</th>\n",
       "      <th>conform</th>\n",
       "      <th>OFF_CRIMEFREE</th>\n",
       "      <th>SGR_LVL_OGS_PRS</th>\n",
       "      <th>DOB2</th>\n",
       "      <th>MS_OFFBODY</th>\n",
       "      <th>MS_SENTJP</th>\n",
       "      <th>JP_CC_BUG</th>\n",
       "      <th>ofn_label</th>\n",
       "    </tr>\n",
       "  </thead>\n",
       "  <tbody>\n",
       "  </tbody>\n",
       "</table>\n",
       "<p>0 rows × 48 columns</p>\n",
       "</div>"
      ],
      "text/plain": [
       "Empty DataFrame\n",
       "Columns: [Unnamed: 0, JPR_ID, OFF_SEX, OFF_RACE, dofage, otn, OFN_TITLE, OFN_COUNT, OFN_LABEL, OFN_GRADE, grade, ogs, prs, GUIDELINE_RANGE, SGR_LVL, INC_SANCTION_EXISTS, INC_TYPE, incmin, incmax, INC_RELATIONSHIP, INC_RELATEDTO, INC_RELATEDOTN, STATE_IP, IP_SANCTION_EXISTS, PROB_SANCTION_EXISTS, county, JPO_ID, glepoch, sip, MS_SANCTION, dof, dos, INC_END, INC_START, IP_END, IP_START, dob, OFF_AGE, id_variable, PCS_OFF_ID, conform, OFF_CRIMEFREE, SGR_LVL_OGS_PRS, DOB2, MS_OFFBODY, MS_SENTJP, JP_CC_BUG, ofn_label]\n",
       "Index: []\n",
       "\n",
       "[0 rows x 48 columns]"
      ]
     },
     "execution_count": 328,
     "metadata": {},
     "output_type": "execute_result"
    }
   ],
   "source": [
    "df[df['OFN_GRADE'].isnull()==True]"
   ]
  },
  {
   "cell_type": "code",
   "execution_count": 329,
   "id": "bd953b11",
   "metadata": {},
   "outputs": [],
   "source": [
    "#df[\"OFN_GRADE\"].replace({'F': 0,'F-1': 1, 'F-2':2,'F-2':3,'H-1': 4,'H-2': 5,'M': 6, 'M-1':7, 'M-2':8, 'M-3':9}, inplace=True)\n",
    "\n",
    "\n",
    "\n",
    "\n",
    "\n",
    "\n"
   ]
  },
  {
   "cell_type": "code",
   "execution_count": 330,
   "id": "d831afe4",
   "metadata": {},
   "outputs": [
    {
     "data": {
      "text/html": [
       "<div>\n",
       "<style scoped>\n",
       "    .dataframe tbody tr th:only-of-type {\n",
       "        vertical-align: middle;\n",
       "    }\n",
       "\n",
       "    .dataframe tbody tr th {\n",
       "        vertical-align: top;\n",
       "    }\n",
       "\n",
       "    .dataframe thead th {\n",
       "        text-align: right;\n",
       "    }\n",
       "</style>\n",
       "<table border=\"1\" class=\"dataframe\">\n",
       "  <thead>\n",
       "    <tr style=\"text-align: right;\">\n",
       "      <th></th>\n",
       "      <th>Unnamed: 0</th>\n",
       "      <th>JPR_ID</th>\n",
       "      <th>OFF_SEX</th>\n",
       "      <th>OFF_RACE</th>\n",
       "      <th>dofage</th>\n",
       "      <th>otn</th>\n",
       "      <th>OFN_TITLE</th>\n",
       "      <th>OFN_COUNT</th>\n",
       "      <th>OFN_LABEL</th>\n",
       "      <th>OFN_GRADE</th>\n",
       "      <th>...</th>\n",
       "      <th>id_variable</th>\n",
       "      <th>PCS_OFF_ID</th>\n",
       "      <th>conform</th>\n",
       "      <th>OFF_CRIMEFREE</th>\n",
       "      <th>SGR_LVL_OGS_PRS</th>\n",
       "      <th>DOB2</th>\n",
       "      <th>MS_OFFBODY</th>\n",
       "      <th>MS_SENTJP</th>\n",
       "      <th>JP_CC_BUG</th>\n",
       "      <th>ofn_label</th>\n",
       "    </tr>\n",
       "  </thead>\n",
       "  <tbody>\n",
       "    <tr>\n",
       "      <th>0</th>\n",
       "      <td>1</td>\n",
       "      <td>640001</td>\n",
       "      <td>0</td>\n",
       "      <td>1</td>\n",
       "      <td>36.689938</td>\n",
       "      <td>H182628-5</td>\n",
       "      <td>18</td>\n",
       "      <td>1</td>\n",
       "      <td>Corruption of Minors - when of a sexual nature</td>\n",
       "      <td>M-1</td>\n",
       "      <td>...</td>\n",
       "      <td>1904581</td>\n",
       "      <td>NaN</td>\n",
       "      <td>NaN</td>\n",
       "      <td>NaN</td>\n",
       "      <td>NaN</td>\n",
       "      <td>NaN</td>\n",
       "      <td>NaN</td>\n",
       "      <td>NaN</td>\n",
       "      <td>NaN</td>\n",
       "      <td>NaN</td>\n",
       "    </tr>\n",
       "    <tr>\n",
       "      <th>1</th>\n",
       "      <td>2</td>\n",
       "      <td>642480</td>\n",
       "      <td>1</td>\n",
       "      <td>1</td>\n",
       "      <td>18.540726</td>\n",
       "      <td>0</td>\n",
       "      <td>75</td>\n",
       "      <td>1</td>\n",
       "      <td>DUI - M-2</td>\n",
       "      <td>M-2</td>\n",
       "      <td>...</td>\n",
       "      <td>1157226</td>\n",
       "      <td>NaN</td>\n",
       "      <td>NaN</td>\n",
       "      <td>NaN</td>\n",
       "      <td>NaN</td>\n",
       "      <td>NaN</td>\n",
       "      <td>NaN</td>\n",
       "      <td>NaN</td>\n",
       "      <td>NaN</td>\n",
       "      <td>NaN</td>\n",
       "    </tr>\n",
       "    <tr>\n",
       "      <th>2</th>\n",
       "      <td>3</td>\n",
       "      <td>660434</td>\n",
       "      <td>1</td>\n",
       "      <td>1</td>\n",
       "      <td>36.914442</td>\n",
       "      <td>H3618344</td>\n",
       "      <td>75</td>\n",
       "      <td>1</td>\n",
       "      <td>DUI - M-2</td>\n",
       "      <td>M-2</td>\n",
       "      <td>...</td>\n",
       "      <td>1467650</td>\n",
       "      <td>NaN</td>\n",
       "      <td>NaN</td>\n",
       "      <td>NaN</td>\n",
       "      <td>NaN</td>\n",
       "      <td>NaN</td>\n",
       "      <td>NaN</td>\n",
       "      <td>NaN</td>\n",
       "      <td>NaN</td>\n",
       "      <td>NaN</td>\n",
       "    </tr>\n",
       "    <tr>\n",
       "      <th>3</th>\n",
       "      <td>4</td>\n",
       "      <td>628940</td>\n",
       "      <td>1</td>\n",
       "      <td>2</td>\n",
       "      <td>22.297057</td>\n",
       "      <td>G0816126</td>\n",
       "      <td>18</td>\n",
       "      <td>1</td>\n",
       "      <td>Simple Assault</td>\n",
       "      <td>M-2</td>\n",
       "      <td>...</td>\n",
       "      <td>1746031</td>\n",
       "      <td>NaN</td>\n",
       "      <td>NaN</td>\n",
       "      <td>NaN</td>\n",
       "      <td>NaN</td>\n",
       "      <td>NaN</td>\n",
       "      <td>NaN</td>\n",
       "      <td>NaN</td>\n",
       "      <td>NaN</td>\n",
       "      <td>NaN</td>\n",
       "    </tr>\n",
       "    <tr>\n",
       "      <th>4</th>\n",
       "      <td>5</td>\n",
       "      <td>594048</td>\n",
       "      <td>1</td>\n",
       "      <td>1</td>\n",
       "      <td>40.087611</td>\n",
       "      <td>H240127-6</td>\n",
       "      <td>75</td>\n",
       "      <td>1</td>\n",
       "      <td>DUI - M-1</td>\n",
       "      <td>M-1</td>\n",
       "      <td>...</td>\n",
       "      <td>1374131</td>\n",
       "      <td>NaN</td>\n",
       "      <td>NaN</td>\n",
       "      <td>NaN</td>\n",
       "      <td>NaN</td>\n",
       "      <td>NaN</td>\n",
       "      <td>NaN</td>\n",
       "      <td>NaN</td>\n",
       "      <td>NaN</td>\n",
       "      <td>NaN</td>\n",
       "    </tr>\n",
       "  </tbody>\n",
       "</table>\n",
       "<p>5 rows × 48 columns</p>\n",
       "</div>"
      ],
      "text/plain": [
       "   Unnamed: 0  JPR_ID  OFF_SEX  OFF_RACE     dofage        otn  OFN_TITLE  \\\n",
       "0           1  640001        0         1  36.689938  H182628-5         18   \n",
       "1           2  642480        1         1  18.540726          0         75   \n",
       "2           3  660434        1         1  36.914442   H3618344         75   \n",
       "3           4  628940        1         2  22.297057   G0816126         18   \n",
       "4           5  594048        1         1  40.087611  H240127-6         75   \n",
       "\n",
       "  OFN_COUNT                                       OFN_LABEL OFN_GRADE  ...  \\\n",
       "0         1  Corruption of Minors - when of a sexual nature       M-1  ...   \n",
       "1         1                                       DUI - M-2       M-2  ...   \n",
       "2         1                                       DUI - M-2       M-2  ...   \n",
       "3         1                                  Simple Assault       M-2  ...   \n",
       "4         1                                       DUI - M-1       M-1  ...   \n",
       "\n",
       "   id_variable  PCS_OFF_ID conform OFF_CRIMEFREE SGR_LVL_OGS_PRS DOB2  \\\n",
       "0      1904581         NaN     NaN           NaN             NaN  NaN   \n",
       "1      1157226         NaN     NaN           NaN             NaN  NaN   \n",
       "2      1467650         NaN     NaN           NaN             NaN  NaN   \n",
       "3      1746031         NaN     NaN           NaN             NaN  NaN   \n",
       "4      1374131         NaN     NaN           NaN             NaN  NaN   \n",
       "\n",
       "  MS_OFFBODY  MS_SENTJP  JP_CC_BUG ofn_label  \n",
       "0        NaN        NaN        NaN       NaN  \n",
       "1        NaN        NaN        NaN       NaN  \n",
       "2        NaN        NaN        NaN       NaN  \n",
       "3        NaN        NaN        NaN       NaN  \n",
       "4        NaN        NaN        NaN       NaN  \n",
       "\n",
       "[5 rows x 48 columns]"
      ]
     },
     "execution_count": 330,
     "metadata": {},
     "output_type": "execute_result"
    }
   ],
   "source": [
    "df.head()"
   ]
  },
  {
   "cell_type": "code",
   "execution_count": 331,
   "id": "91fffb47",
   "metadata": {},
   "outputs": [
    {
     "data": {
      "text/plain": [
       "Index(['Unnamed: 0', 'JPR_ID', 'OFF_SEX', 'OFF_RACE', 'dofage', 'otn',\n",
       "       'OFN_TITLE', 'OFN_COUNT', 'OFN_LABEL', 'OFN_GRADE', 'grade', 'ogs',\n",
       "       'prs', 'GUIDELINE_RANGE', 'SGR_LVL', 'INC_SANCTION_EXISTS', 'INC_TYPE',\n",
       "       'incmin', 'incmax', 'INC_RELATIONSHIP', 'INC_RELATEDTO',\n",
       "       'INC_RELATEDOTN', 'STATE_IP', 'IP_SANCTION_EXISTS',\n",
       "       'PROB_SANCTION_EXISTS', 'county', 'JPO_ID', 'glepoch', 'sip',\n",
       "       'MS_SANCTION', 'dof', 'dos', 'INC_END', 'INC_START', 'IP_END',\n",
       "       'IP_START', 'dob', 'OFF_AGE', 'id_variable', 'PCS_OFF_ID', 'conform',\n",
       "       'OFF_CRIMEFREE', 'SGR_LVL_OGS_PRS', 'DOB2', 'MS_OFFBODY', 'MS_SENTJP',\n",
       "       'JP_CC_BUG', 'ofn_label'],\n",
       "      dtype='object')"
      ]
     },
     "execution_count": 331,
     "metadata": {},
     "output_type": "execute_result"
    }
   ],
   "source": [
    "df.columns"
   ]
  },
  {
   "cell_type": "code",
   "execution_count": 332,
   "id": "c7bb202c",
   "metadata": {},
   "outputs": [
    {
     "data": {
      "text/html": [
       "<div>\n",
       "<style scoped>\n",
       "    .dataframe tbody tr th:only-of-type {\n",
       "        vertical-align: middle;\n",
       "    }\n",
       "\n",
       "    .dataframe tbody tr th {\n",
       "        vertical-align: top;\n",
       "    }\n",
       "\n",
       "    .dataframe thead th {\n",
       "        text-align: right;\n",
       "    }\n",
       "</style>\n",
       "<table border=\"1\" class=\"dataframe\">\n",
       "  <thead>\n",
       "    <tr style=\"text-align: right;\">\n",
       "      <th></th>\n",
       "      <th>Unnamed: 0</th>\n",
       "      <th>JPR_ID</th>\n",
       "      <th>OFF_SEX</th>\n",
       "      <th>OFF_RACE</th>\n",
       "      <th>dofage</th>\n",
       "      <th>otn</th>\n",
       "      <th>OFN_TITLE</th>\n",
       "      <th>OFN_COUNT</th>\n",
       "      <th>OFN_LABEL</th>\n",
       "      <th>OFN_GRADE</th>\n",
       "      <th>...</th>\n",
       "      <th>id_variable</th>\n",
       "      <th>PCS_OFF_ID</th>\n",
       "      <th>conform</th>\n",
       "      <th>OFF_CRIMEFREE</th>\n",
       "      <th>SGR_LVL_OGS_PRS</th>\n",
       "      <th>DOB2</th>\n",
       "      <th>MS_OFFBODY</th>\n",
       "      <th>MS_SENTJP</th>\n",
       "      <th>JP_CC_BUG</th>\n",
       "      <th>ofn_label</th>\n",
       "    </tr>\n",
       "  </thead>\n",
       "  <tbody>\n",
       "  </tbody>\n",
       "</table>\n",
       "<p>0 rows × 48 columns</p>\n",
       "</div>"
      ],
      "text/plain": [
       "Empty DataFrame\n",
       "Columns: [Unnamed: 0, JPR_ID, OFF_SEX, OFF_RACE, dofage, otn, OFN_TITLE, OFN_COUNT, OFN_LABEL, OFN_GRADE, grade, ogs, prs, GUIDELINE_RANGE, SGR_LVL, INC_SANCTION_EXISTS, INC_TYPE, incmin, incmax, INC_RELATIONSHIP, INC_RELATEDTO, INC_RELATEDOTN, STATE_IP, IP_SANCTION_EXISTS, PROB_SANCTION_EXISTS, county, JPO_ID, glepoch, sip, MS_SANCTION, dof, dos, INC_END, INC_START, IP_END, IP_START, dob, OFF_AGE, id_variable, PCS_OFF_ID, conform, OFF_CRIMEFREE, SGR_LVL_OGS_PRS, DOB2, MS_OFFBODY, MS_SENTJP, JP_CC_BUG, ofn_label]\n",
       "Index: []\n",
       "\n",
       "[0 rows x 48 columns]"
      ]
     },
     "execution_count": 332,
     "metadata": {},
     "output_type": "execute_result"
    }
   ],
   "source": [
    "df[df['grade'].isnull()==True]"
   ]
  },
  {
   "cell_type": "code",
   "execution_count": 333,
   "id": "caec9a8c",
   "metadata": {},
   "outputs": [
    {
     "data": {
      "text/plain": [
       "array([ 4,  3,  5,  6,  7,  2,  1,  8,  9, 10])"
      ]
     },
     "execution_count": 333,
     "metadata": {},
     "output_type": "execute_result"
    }
   ],
   "source": [
    "df['grade'].unique()"
   ]
  },
  {
   "cell_type": "code",
   "execution_count": 334,
   "id": "af8c1776",
   "metadata": {},
   "outputs": [
    {
     "data": {
      "text/plain": [
       "array(['2', '1', '3', '4', '-', '5', '~', nan], dtype=object)"
      ]
     },
     "execution_count": 334,
     "metadata": {},
     "output_type": "execute_result"
    }
   ],
   "source": [
    "df['SGR_LVL'].unique()"
   ]
  },
  {
   "cell_type": "code",
   "execution_count": 335,
   "id": "1c993746",
   "metadata": {},
   "outputs": [],
   "source": [
    "#df[\"SGR_LVL\"].replace({'nan':''}, inplace=True)\n",
    "\n"
   ]
  },
  {
   "cell_type": "code",
   "execution_count": 336,
   "id": "da9e43a5",
   "metadata": {},
   "outputs": [
    {
     "data": {
      "text/plain": [
       "array(['2', '1', '3', '4', '-', '5', '~', nan], dtype=object)"
      ]
     },
     "execution_count": 336,
     "metadata": {},
     "output_type": "execute_result"
    }
   ],
   "source": [
    "df['SGR_LVL'].unique()"
   ]
  },
  {
   "cell_type": "code",
   "execution_count": 337,
   "id": "7f80d0cb",
   "metadata": {},
   "outputs": [],
   "source": [
    "df['SGR_LVL'] = df['SGR_LVL'].fillna('')"
   ]
  },
  {
   "cell_type": "code",
   "execution_count": 338,
   "id": "bf84e594",
   "metadata": {},
   "outputs": [],
   "source": [
    "df['SGR_LVL'].replace({'-': '', '~':''}, inplace=True)"
   ]
  },
  {
   "cell_type": "code",
   "execution_count": 339,
   "id": "83a9b716",
   "metadata": {},
   "outputs": [
    {
     "data": {
      "text/plain": [
       "array(['2', '1', '3', '4', '', '5'], dtype=object)"
      ]
     },
     "execution_count": 339,
     "metadata": {},
     "output_type": "execute_result"
    }
   ],
   "source": [
    "df['SGR_LVL'].unique()"
   ]
  },
  {
   "cell_type": "code",
   "execution_count": 340,
   "id": "017b439a",
   "metadata": {},
   "outputs": [
    {
     "data": {
      "text/plain": [
       "array([nan, 'County Facility', 'Unknown', 'State Facility'], dtype=object)"
      ]
     },
     "execution_count": 340,
     "metadata": {},
     "output_type": "execute_result"
    }
   ],
   "source": [
    "df['INC_TYPE'].unique()"
   ]
  },
  {
   "cell_type": "code",
   "execution_count": 341,
   "id": "7dc53c52",
   "metadata": {},
   "outputs": [],
   "source": [
    "df[\"INC_TYPE\"].replace({'Unknown': 0,'County Facility': 1, 'State Facility':2}, inplace=True)"
   ]
  },
  {
   "cell_type": "code",
   "execution_count": 342,
   "id": "7ba4194b",
   "metadata": {},
   "outputs": [
    {
     "data": {
      "text/plain": [
       "array([nan,  1.,  0.,  2.])"
      ]
     },
     "execution_count": 342,
     "metadata": {},
     "output_type": "execute_result"
    }
   ],
   "source": [
    "df['INC_TYPE'].unique()"
   ]
  },
  {
   "cell_type": "code",
   "execution_count": 343,
   "id": "133ea69f",
   "metadata": {},
   "outputs": [
    {
     "data": {
      "text/plain": [
       "array([           nan, 6.57894737e-02, 6.00000000e+00, ...,\n",
       "       9.64934211e+01, 1.52302632e+01, 5.63157895e+00])"
      ]
     },
     "execution_count": 343,
     "metadata": {},
     "output_type": "execute_result"
    }
   ],
   "source": [
    "df['incmin'].unique()"
   ]
  },
  {
   "cell_type": "code",
   "execution_count": 344,
   "id": "452ff6a7",
   "metadata": {},
   "outputs": [
    {
     "data": {
      "text/plain": [
       "array([        nan, 12.        ,  0.06578947, ..., 15.85526316,\n",
       "       16.44736842, 55.59210526])"
      ]
     },
     "execution_count": 344,
     "metadata": {},
     "output_type": "execute_result"
    }
   ],
   "source": [
    "df['incmax'].unique()"
   ]
  },
  {
   "cell_type": "code",
   "execution_count": 345,
   "id": "4e277503",
   "metadata": {},
   "outputs": [
    {
     "data": {
      "text/plain": [
       "array([nan, 'Consecutive', 'Concurrent', 'X'], dtype=object)"
      ]
     },
     "execution_count": 345,
     "metadata": {},
     "output_type": "execute_result"
    }
   ],
   "source": [
    "df['INC_RELATIONSHIP'].unique()"
   ]
  },
  {
   "cell_type": "code",
   "execution_count": 346,
   "id": "23e5530f",
   "metadata": {},
   "outputs": [],
   "source": [
    "df['INC_RELATIONSHIP'].replace({'Consecutive':0,'Concurrent':1, 'X':2}, inplace=True)"
   ]
  },
  {
   "cell_type": "code",
   "execution_count": 347,
   "id": "bdff2251",
   "metadata": {},
   "outputs": [
    {
     "data": {
      "text/plain": [
       "array([nan,  0.,  1.,  2.])"
      ]
     },
     "execution_count": 347,
     "metadata": {},
     "output_type": "execute_result"
    }
   ],
   "source": [
    "df['INC_RELATIONSHIP'].unique()"
   ]
  },
  {
   "cell_type": "code",
   "execution_count": 348,
   "id": "bced6c88",
   "metadata": {},
   "outputs": [
    {
     "data": {
      "text/plain": [
       "array(['N', 'Y'], dtype=object)"
      ]
     },
     "execution_count": 348,
     "metadata": {},
     "output_type": "execute_result"
    }
   ],
   "source": [
    "df['STATE_IP'].unique()"
   ]
  },
  {
   "cell_type": "code",
   "execution_count": 349,
   "id": "c0afec81",
   "metadata": {},
   "outputs": [],
   "source": [
    "df['STATE_IP'].replace({'N': 0,'Y': 1}, inplace=True)"
   ]
  },
  {
   "cell_type": "code",
   "execution_count": 350,
   "id": "815f103c",
   "metadata": {},
   "outputs": [
    {
     "data": {
      "text/plain": [
       "array(['N', 'Y', nan], dtype=object)"
      ]
     },
     "execution_count": 350,
     "metadata": {},
     "output_type": "execute_result"
    }
   ],
   "source": [
    "df['IP_SANCTION_EXISTS'].unique()"
   ]
  },
  {
   "cell_type": "code",
   "execution_count": 351,
   "id": "b1f95c05",
   "metadata": {},
   "outputs": [],
   "source": [
    "df['IP_SANCTION_EXISTS'].replace({'N': 0,'Y': 1}, inplace=True)"
   ]
  },
  {
   "cell_type": "code",
   "execution_count": 352,
   "id": "ea8de232",
   "metadata": {},
   "outputs": [
    {
     "data": {
      "text/plain": [
       "array(['Y', 'N', nan], dtype=object)"
      ]
     },
     "execution_count": 352,
     "metadata": {},
     "output_type": "execute_result"
    }
   ],
   "source": [
    "df['PROB_SANCTION_EXISTS'].unique()\n"
   ]
  },
  {
   "cell_type": "code",
   "execution_count": 353,
   "id": "b5e55808",
   "metadata": {},
   "outputs": [],
   "source": [
    "df['PROB_SANCTION_EXISTS'].replace({'N': 0,'Y': 1}, inplace=True)"
   ]
  },
  {
   "cell_type": "code",
   "execution_count": 354,
   "id": "8fa6c1b9",
   "metadata": {},
   "outputs": [
    {
     "data": {
      "text/plain": [
       "array(['Cambria', 'Chester', 'Bucks', 'Allegheny', 'Clarion',\n",
       "       'Westmoreland', 'Lehigh', 'Philadelphia', 'Delaware', 'Montgomery',\n",
       "       'Crawford', 'Washington', 'Cumberland', 'Franklin', 'Lackawanna',\n",
       "       'Erie', 'Berks', 'Dauphin', 'York', 'Fayette', 'Lancaster',\n",
       "       'Luzerne', 'Schuylkill', 'Mercer', 'Beaver', 'Armstrong',\n",
       "       'Venango', 'Monroe', 'Lebanon', 'Carbon', 'Northampton',\n",
       "       'Northumberland', 'Bradford', 'Union', 'Mifflin', 'Wyoming',\n",
       "       'Centre', 'Susquehanna', 'Lawrence', 'Greene', 'Blair', 'Juniata',\n",
       "       'Lycoming', 'Adams', 'Columbia', 'Butler', 'McKean', 'Forest',\n",
       "       'Snyder', 'Indiana', 'Clearfield', 'Perry', 'Wayne', 'Huntingdon',\n",
       "       'Tioga', 'Somerset', 'Clinton', 'Elk', 'Warren', 'Pike', 'Fulton',\n",
       "       'Montour', 'Potter', 'Bedford', 'Sullivan', 'Jefferson', 'Cameron',\n",
       "       'PCCD'], dtype=object)"
      ]
     },
     "execution_count": 354,
     "metadata": {},
     "output_type": "execute_result"
    }
   ],
   "source": [
    "df['county'].unique()"
   ]
  },
  {
   "cell_type": "code",
   "execution_count": 355,
   "id": "26cd6479",
   "metadata": {},
   "outputs": [
    {
     "data": {
      "text/plain": [
       "array(['N', 'Y', nan], dtype=object)"
      ]
     },
     "execution_count": 355,
     "metadata": {},
     "output_type": "execute_result"
    }
   ],
   "source": [
    "df['INC_SANCTION_EXISTS'].unique()"
   ]
  },
  {
   "cell_type": "code",
   "execution_count": 356,
   "id": "0e2ae211",
   "metadata": {},
   "outputs": [],
   "source": [
    "df['INC_SANCTION_EXISTS'].replace({'N': 0,'Y': 1}, inplace=True)"
   ]
  },
  {
   "cell_type": "code",
   "execution_count": 357,
   "id": "8ebae9b7",
   "metadata": {},
   "outputs": [],
   "source": [
    "df['county'].replace({'Cambria': 11, 'Chester': 15, 'Bucks':9, 'Allegheny': 2, 'Clarion' :16,\n",
    "       'Westmoreland':65, 'Lehigh':39, 'Philadelphia':51, 'Delaware':23, 'Montgomery':46,\n",
    "       'Crawford':20, 'Washington':63, 'Cumberland':21, 'Franklin':28, 'Lackawanna':35,\n",
    "       'Erie':25, 'Berks':6, 'Dauphin':22, 'York':67, 'Fayette':26, 'Lancaster':36,\n",
    "       'Luzerne':40, 'Schuylkill':54, 'Mercer':43, 'Beaver':4, 'Armstrong':3,\n",
    "       'Venango':61, 'Monroe':45, 'Lebanon':38, 'Carbon':13, 'Northampton':48,\n",
    "       'Northumberland':49, 'Bradford':8, 'Union':60, 'Mifflin':44, 'Wyoming':66,\n",
    "       'Centre':14, 'Susquehanna':58, 'Lawrence':37, 'Greene':30, 'Blair':7, 'Juniata':34,\n",
    "       'Lycoming':41, 'Adams':1, 'Columbia':19, 'Butler':10, 'McKean':42, 'Forest':27,\n",
    "       'Snyder':55, 'Indiana':32, 'Clearfield':17, 'Perry':50, 'Wayne':64, 'Huntingdon':31,\n",
    "       'Tioga':59, 'Somerset':56, 'Clinton':18, 'Elk':24, 'Warren':62, 'Pike':52, 'Fulton':29,\n",
    "       'Montour':47, 'Potter':53, 'Bedford':5, 'Sullivan': 57, 'Jefferson':33, 'Cameron':12,\n",
    "       'PCCD':0}, inplace=True)"
   ]
  },
  {
   "cell_type": "code",
   "execution_count": 358,
   "id": "2322ee14",
   "metadata": {},
   "outputs": [
    {
     "data": {
      "text/plain": [
       "array([11, 15,  9,  2, 16, 65, 39, 51, 23, 46, 20, 63, 21, 28, 35, 25,  6,\n",
       "       22, 67, 26, 36, 40, 54, 43,  4,  3, 61, 45, 38, 13, 48, 49,  8, 60,\n",
       "       44, 66, 14, 58, 37, 30,  7, 34, 41,  1, 19, 10, 42, 27, 55, 32, 17,\n",
       "       50, 64, 31, 59, 56, 18, 24, 62, 52, 29, 47, 53,  5, 57, 33, 12,  0])"
      ]
     },
     "execution_count": 358,
     "metadata": {},
     "output_type": "execute_result"
    }
   ],
   "source": [
    "df['county'].unique()"
   ]
  },
  {
   "cell_type": "code",
   "execution_count": 359,
   "id": "eb79f7ba",
   "metadata": {},
   "outputs": [
    {
     "data": {
      "text/plain": [
       "array([ 5.,  3.,  4.,  6.,  1., nan,  2.])"
      ]
     },
     "execution_count": 359,
     "metadata": {},
     "output_type": "execute_result"
    }
   ],
   "source": [
    "df['MS_SANCTION'].unique()"
   ]
  },
  {
   "cell_type": "code",
   "execution_count": 360,
   "id": "767a2e46",
   "metadata": {},
   "outputs": [
    {
     "data": {
      "text/html": [
       "<div>\n",
       "<style scoped>\n",
       "    .dataframe tbody tr th:only-of-type {\n",
       "        vertical-align: middle;\n",
       "    }\n",
       "\n",
       "    .dataframe tbody tr th {\n",
       "        vertical-align: top;\n",
       "    }\n",
       "\n",
       "    .dataframe thead th {\n",
       "        text-align: right;\n",
       "    }\n",
       "</style>\n",
       "<table border=\"1\" class=\"dataframe\">\n",
       "  <thead>\n",
       "    <tr style=\"text-align: right;\">\n",
       "      <th></th>\n",
       "      <th>Unnamed: 0</th>\n",
       "      <th>JPR_ID</th>\n",
       "      <th>OFF_SEX</th>\n",
       "      <th>OFF_RACE</th>\n",
       "      <th>dofage</th>\n",
       "      <th>OFN_TITLE</th>\n",
       "      <th>grade</th>\n",
       "      <th>ogs</th>\n",
       "      <th>INC_SANCTION_EXISTS</th>\n",
       "      <th>INC_TYPE</th>\n",
       "      <th>...</th>\n",
       "      <th>IP_SANCTION_EXISTS</th>\n",
       "      <th>PROB_SANCTION_EXISTS</th>\n",
       "      <th>county</th>\n",
       "      <th>JPO_ID</th>\n",
       "      <th>sip</th>\n",
       "      <th>MS_SANCTION</th>\n",
       "      <th>OFF_AGE</th>\n",
       "      <th>id_variable</th>\n",
       "      <th>PCS_OFF_ID</th>\n",
       "      <th>SGR_LVL_OGS_PRS</th>\n",
       "    </tr>\n",
       "  </thead>\n",
       "  <tbody>\n",
       "    <tr>\n",
       "      <th>count</th>\n",
       "      <td>2.593636e+06</td>\n",
       "      <td>2.593636e+06</td>\n",
       "      <td>2.593636e+06</td>\n",
       "      <td>2.593636e+06</td>\n",
       "      <td>2.589731e+06</td>\n",
       "      <td>2.593636e+06</td>\n",
       "      <td>2.593636e+06</td>\n",
       "      <td>2.592947e+06</td>\n",
       "      <td>2.525638e+06</td>\n",
       "      <td>1.127735e+06</td>\n",
       "      <td>...</td>\n",
       "      <td>2.525638e+06</td>\n",
       "      <td>2.525638e+06</td>\n",
       "      <td>2.593636e+06</td>\n",
       "      <td>2.593636e+06</td>\n",
       "      <td>10841.0</td>\n",
       "      <td>2.593625e+06</td>\n",
       "      <td>800943.000000</td>\n",
       "      <td>2.593636e+06</td>\n",
       "      <td>1.694336e+06</td>\n",
       "      <td>1.689697e+06</td>\n",
       "    </tr>\n",
       "    <tr>\n",
       "      <th>mean</th>\n",
       "      <td>1.296818e+06</td>\n",
       "      <td>3.694824e+06</td>\n",
       "      <td>7.993030e-01</td>\n",
       "      <td>1.383833e+00</td>\n",
       "      <td>3.210911e+01</td>\n",
       "      <td>3.262362e+01</td>\n",
       "      <td>3.658754e+00</td>\n",
       "      <td>3.500368e+00</td>\n",
       "      <td>4.465149e-01</td>\n",
       "      <td>1.343246e+00</td>\n",
       "      <td>...</td>\n",
       "      <td>8.890031e-02</td>\n",
       "      <td>5.031054e-01</td>\n",
       "      <td>3.010923e+01</td>\n",
       "      <td>5.726500e+06</td>\n",
       "      <td>1.0</td>\n",
       "      <td>3.835421e+00</td>\n",
       "      <td>31.078002</td>\n",
       "      <td>1.458400e+06</td>\n",
       "      <td>4.258689e+05</td>\n",
       "      <td>2.347637e+00</td>\n",
       "    </tr>\n",
       "    <tr>\n",
       "      <th>std</th>\n",
       "      <td>7.487184e+05</td>\n",
       "      <td>2.126428e+06</td>\n",
       "      <td>4.020448e-01</td>\n",
       "      <td>8.339339e-01</td>\n",
       "      <td>1.354135e+01</td>\n",
       "      <td>2.147387e+01</td>\n",
       "      <td>2.074664e+00</td>\n",
       "      <td>2.450546e+00</td>\n",
       "      <td>4.971312e-01</td>\n",
       "      <td>4.770848e-01</td>\n",
       "      <td>...</td>\n",
       "      <td>2.845999e-01</td>\n",
       "      <td>4.999905e-01</td>\n",
       "      <td>2.070458e+01</td>\n",
       "      <td>3.341527e+06</td>\n",
       "      <td>0.0</td>\n",
       "      <td>1.544131e+00</td>\n",
       "      <td>26.301981</td>\n",
       "      <td>2.639681e+05</td>\n",
       "      <td>2.432659e+05</td>\n",
       "      <td>1.069654e+00</td>\n",
       "    </tr>\n",
       "    <tr>\n",
       "      <th>min</th>\n",
       "      <td>1.000000e+00</td>\n",
       "      <td>1.722000e+03</td>\n",
       "      <td>0.000000e+00</td>\n",
       "      <td>0.000000e+00</td>\n",
       "      <td>-6.871795e+03</td>\n",
       "      <td>3.000000e+00</td>\n",
       "      <td>1.000000e+00</td>\n",
       "      <td>0.000000e+00</td>\n",
       "      <td>0.000000e+00</td>\n",
       "      <td>0.000000e+00</td>\n",
       "      <td>...</td>\n",
       "      <td>0.000000e+00</td>\n",
       "      <td>0.000000e+00</td>\n",
       "      <td>0.000000e+00</td>\n",
       "      <td>2.365000e+03</td>\n",
       "      <td>1.0</td>\n",
       "      <td>1.000000e+00</td>\n",
       "      <td>-7828.000000</td>\n",
       "      <td>1.000001e+06</td>\n",
       "      <td>2.000000e+00</td>\n",
       "      <td>1.000000e+00</td>\n",
       "    </tr>\n",
       "    <tr>\n",
       "      <th>25%</th>\n",
       "      <td>6.484098e+05</td>\n",
       "      <td>1.568437e+06</td>\n",
       "      <td>1.000000e+00</td>\n",
       "      <td>1.000000e+00</td>\n",
       "      <td>2.297878e+01</td>\n",
       "      <td>1.800000e+01</td>\n",
       "      <td>2.000000e+00</td>\n",
       "      <td>2.000000e+00</td>\n",
       "      <td>0.000000e+00</td>\n",
       "      <td>1.000000e+00</td>\n",
       "      <td>...</td>\n",
       "      <td>0.000000e+00</td>\n",
       "      <td>0.000000e+00</td>\n",
       "      <td>1.000000e+01</td>\n",
       "      <td>2.448761e+06</td>\n",
       "      <td>1.0</td>\n",
       "      <td>3.000000e+00</td>\n",
       "      <td>22.000000</td>\n",
       "      <td>1.230525e+06</td>\n",
       "      <td>2.307875e+05</td>\n",
       "      <td>2.000000e+00</td>\n",
       "    </tr>\n",
       "    <tr>\n",
       "      <th>50%</th>\n",
       "      <td>1.296818e+06</td>\n",
       "      <td>4.921428e+06</td>\n",
       "      <td>1.000000e+00</td>\n",
       "      <td>1.000000e+00</td>\n",
       "      <td>2.953593e+01</td>\n",
       "      <td>1.800000e+01</td>\n",
       "      <td>4.000000e+00</td>\n",
       "      <td>3.000000e+00</td>\n",
       "      <td>0.000000e+00</td>\n",
       "      <td>1.000000e+00</td>\n",
       "      <td>...</td>\n",
       "      <td>0.000000e+00</td>\n",
       "      <td>1.000000e+00</td>\n",
       "      <td>2.600000e+01</td>\n",
       "      <td>7.397284e+06</td>\n",
       "      <td>1.0</td>\n",
       "      <td>4.000000e+00</td>\n",
       "      <td>28.000000</td>\n",
       "      <td>1.459135e+06</td>\n",
       "      <td>3.988690e+05</td>\n",
       "      <td>2.000000e+00</td>\n",
       "    </tr>\n",
       "    <tr>\n",
       "      <th>75%</th>\n",
       "      <td>1.945227e+06</td>\n",
       "      <td>5.465322e+06</td>\n",
       "      <td>1.000000e+00</td>\n",
       "      <td>2.000000e+00</td>\n",
       "      <td>3.932101e+01</td>\n",
       "      <td>3.500000e+01</td>\n",
       "      <td>5.000000e+00</td>\n",
       "      <td>5.000000e+00</td>\n",
       "      <td>1.000000e+00</td>\n",
       "      <td>2.000000e+00</td>\n",
       "      <td>...</td>\n",
       "      <td>0.000000e+00</td>\n",
       "      <td>1.000000e+00</td>\n",
       "      <td>4.800000e+01</td>\n",
       "      <td>8.510823e+06</td>\n",
       "      <td>1.0</td>\n",
       "      <td>5.000000e+00</td>\n",
       "      <td>39.000000</td>\n",
       "      <td>1.685714e+06</td>\n",
       "      <td>6.712732e+05</td>\n",
       "      <td>3.000000e+00</td>\n",
       "    </tr>\n",
       "    <tr>\n",
       "      <th>max</th>\n",
       "      <td>2.593636e+06</td>\n",
       "      <td>6.134361e+06</td>\n",
       "      <td>2.000000e+00</td>\n",
       "      <td>6.000000e+00</td>\n",
       "      <td>3.623929e+02</td>\n",
       "      <td>7.700000e+01</td>\n",
       "      <td>1.000000e+01</td>\n",
       "      <td>1.500000e+01</td>\n",
       "      <td>1.000000e+00</td>\n",
       "      <td>2.000000e+00</td>\n",
       "      <td>...</td>\n",
       "      <td>1.000000e+00</td>\n",
       "      <td>1.000000e+00</td>\n",
       "      <td>6.700000e+01</td>\n",
       "      <td>9.935539e+06</td>\n",
       "      <td>1.0</td>\n",
       "      <td>6.000000e+00</td>\n",
       "      <td>1874.000000</td>\n",
       "      <td>1.916197e+06</td>\n",
       "      <td>8.793060e+05</td>\n",
       "      <td>5.000000e+00</td>\n",
       "    </tr>\n",
       "  </tbody>\n",
       "</table>\n",
       "<p>8 rows × 24 columns</p>\n",
       "</div>"
      ],
      "text/plain": [
       "         Unnamed: 0        JPR_ID       OFF_SEX      OFF_RACE        dofage  \\\n",
       "count  2.593636e+06  2.593636e+06  2.593636e+06  2.593636e+06  2.589731e+06   \n",
       "mean   1.296818e+06  3.694824e+06  7.993030e-01  1.383833e+00  3.210911e+01   \n",
       "std    7.487184e+05  2.126428e+06  4.020448e-01  8.339339e-01  1.354135e+01   \n",
       "min    1.000000e+00  1.722000e+03  0.000000e+00  0.000000e+00 -6.871795e+03   \n",
       "25%    6.484098e+05  1.568437e+06  1.000000e+00  1.000000e+00  2.297878e+01   \n",
       "50%    1.296818e+06  4.921428e+06  1.000000e+00  1.000000e+00  2.953593e+01   \n",
       "75%    1.945227e+06  5.465322e+06  1.000000e+00  2.000000e+00  3.932101e+01   \n",
       "max    2.593636e+06  6.134361e+06  2.000000e+00  6.000000e+00  3.623929e+02   \n",
       "\n",
       "          OFN_TITLE         grade           ogs  INC_SANCTION_EXISTS  \\\n",
       "count  2.593636e+06  2.593636e+06  2.592947e+06         2.525638e+06   \n",
       "mean   3.262362e+01  3.658754e+00  3.500368e+00         4.465149e-01   \n",
       "std    2.147387e+01  2.074664e+00  2.450546e+00         4.971312e-01   \n",
       "min    3.000000e+00  1.000000e+00  0.000000e+00         0.000000e+00   \n",
       "25%    1.800000e+01  2.000000e+00  2.000000e+00         0.000000e+00   \n",
       "50%    1.800000e+01  4.000000e+00  3.000000e+00         0.000000e+00   \n",
       "75%    3.500000e+01  5.000000e+00  5.000000e+00         1.000000e+00   \n",
       "max    7.700000e+01  1.000000e+01  1.500000e+01         1.000000e+00   \n",
       "\n",
       "           INC_TYPE  ...  IP_SANCTION_EXISTS  PROB_SANCTION_EXISTS  \\\n",
       "count  1.127735e+06  ...        2.525638e+06          2.525638e+06   \n",
       "mean   1.343246e+00  ...        8.890031e-02          5.031054e-01   \n",
       "std    4.770848e-01  ...        2.845999e-01          4.999905e-01   \n",
       "min    0.000000e+00  ...        0.000000e+00          0.000000e+00   \n",
       "25%    1.000000e+00  ...        0.000000e+00          0.000000e+00   \n",
       "50%    1.000000e+00  ...        0.000000e+00          1.000000e+00   \n",
       "75%    2.000000e+00  ...        0.000000e+00          1.000000e+00   \n",
       "max    2.000000e+00  ...        1.000000e+00          1.000000e+00   \n",
       "\n",
       "             county        JPO_ID      sip   MS_SANCTION        OFF_AGE  \\\n",
       "count  2.593636e+06  2.593636e+06  10841.0  2.593625e+06  800943.000000   \n",
       "mean   3.010923e+01  5.726500e+06      1.0  3.835421e+00      31.078002   \n",
       "std    2.070458e+01  3.341527e+06      0.0  1.544131e+00      26.301981   \n",
       "min    0.000000e+00  2.365000e+03      1.0  1.000000e+00   -7828.000000   \n",
       "25%    1.000000e+01  2.448761e+06      1.0  3.000000e+00      22.000000   \n",
       "50%    2.600000e+01  7.397284e+06      1.0  4.000000e+00      28.000000   \n",
       "75%    4.800000e+01  8.510823e+06      1.0  5.000000e+00      39.000000   \n",
       "max    6.700000e+01  9.935539e+06      1.0  6.000000e+00    1874.000000   \n",
       "\n",
       "        id_variable    PCS_OFF_ID  SGR_LVL_OGS_PRS  \n",
       "count  2.593636e+06  1.694336e+06     1.689697e+06  \n",
       "mean   1.458400e+06  4.258689e+05     2.347637e+00  \n",
       "std    2.639681e+05  2.432659e+05     1.069654e+00  \n",
       "min    1.000001e+06  2.000000e+00     1.000000e+00  \n",
       "25%    1.230525e+06  2.307875e+05     2.000000e+00  \n",
       "50%    1.459135e+06  3.988690e+05     2.000000e+00  \n",
       "75%    1.685714e+06  6.712732e+05     3.000000e+00  \n",
       "max    1.916197e+06  8.793060e+05     5.000000e+00  \n",
       "\n",
       "[8 rows x 24 columns]"
      ]
     },
     "execution_count": 360,
     "metadata": {},
     "output_type": "execute_result"
    }
   ],
   "source": [
    "df.describe()"
   ]
  },
  {
   "cell_type": "code",
   "execution_count": 361,
   "id": "c9ae46ff",
   "metadata": {},
   "outputs": [
    {
     "data": {
      "text/plain": [
       "Unnamed: 0                int64\n",
       "JPR_ID                    int64\n",
       "OFF_SEX                   int64\n",
       "OFF_RACE                  int64\n",
       "dofage                  float64\n",
       "otn                      object\n",
       "OFN_TITLE                 int64\n",
       "OFN_COUNT                object\n",
       "OFN_LABEL                object\n",
       "OFN_GRADE                object\n",
       "grade                     int64\n",
       "ogs                     float64\n",
       "prs                      object\n",
       "GUIDELINE_RANGE          object\n",
       "SGR_LVL                  object\n",
       "INC_SANCTION_EXISTS     float64\n",
       "INC_TYPE                float64\n",
       "incmin                  float64\n",
       "incmax                  float64\n",
       "INC_RELATIONSHIP        float64\n",
       "INC_RELATEDTO            object\n",
       "INC_RELATEDOTN           object\n",
       "STATE_IP                  int64\n",
       "IP_SANCTION_EXISTS      float64\n",
       "PROB_SANCTION_EXISTS    float64\n",
       "county                    int64\n",
       "JPO_ID                    int64\n",
       "glepoch                  object\n",
       "sip                     float64\n",
       "MS_SANCTION             float64\n",
       "dof                      object\n",
       "dos                      object\n",
       "INC_END                  object\n",
       "INC_START                object\n",
       "IP_END                   object\n",
       "IP_START                 object\n",
       "dob                      object\n",
       "OFF_AGE                 float64\n",
       "id_variable               int64\n",
       "PCS_OFF_ID              float64\n",
       "conform                  object\n",
       "OFF_CRIMEFREE            object\n",
       "SGR_LVL_OGS_PRS         float64\n",
       "DOB2                     object\n",
       "MS_OFFBODY               object\n",
       "MS_SENTJP                object\n",
       "JP_CC_BUG                object\n",
       "ofn_label                object\n",
       "dtype: object"
      ]
     },
     "execution_count": 361,
     "metadata": {},
     "output_type": "execute_result"
    }
   ],
   "source": [
    "df.dtypes"
   ]
  },
  {
   "cell_type": "code",
   "execution_count": 362,
   "id": "028fbfce",
   "metadata": {},
   "outputs": [],
   "source": [
    "df['INC_END'] = pd.to_datetime(df['INC_END'])"
   ]
  },
  {
   "cell_type": "code",
   "execution_count": 363,
   "id": "cef0634d",
   "metadata": {},
   "outputs": [],
   "source": [
    "df['INC_START'] = pd.to_datetime(df['INC_START'])"
   ]
  },
  {
   "cell_type": "code",
   "execution_count": 364,
   "id": "1235e1a3",
   "metadata": {},
   "outputs": [],
   "source": [
    "df['IP_END'] = pd.to_datetime(df['IP_END'])"
   ]
  },
  {
   "cell_type": "code",
   "execution_count": 365,
   "id": "ad2ccae4",
   "metadata": {},
   "outputs": [],
   "source": [
    "df['IP_START'] = pd.to_datetime(df['IP_START'])"
   ]
  },
  {
   "cell_type": "code",
   "execution_count": 382,
   "id": "c3821418",
   "metadata": {},
   "outputs": [],
   "source": [
    "df['dob'] = pd.to_datetime(df['dob'])"
   ]
  },
  {
   "cell_type": "code",
   "execution_count": 367,
   "id": "f9dc0be9",
   "metadata": {},
   "outputs": [],
   "source": [
    "df['dos'] = pd.to_datetime(df['dos'])"
   ]
  },
  {
   "cell_type": "code",
   "execution_count": 368,
   "id": "a239a788",
   "metadata": {},
   "outputs": [],
   "source": [
    "df['dof'] = pd.to_datetime(df['dof'])"
   ]
  },
  {
   "cell_type": "code",
   "execution_count": 369,
   "id": "69b549c8",
   "metadata": {},
   "outputs": [],
   "source": [
    "df['INC_END_DAYS'] = (df['INC_END'].sub(pd.to_datetime('01/01/1900'))).dt.days"
   ]
  },
  {
   "cell_type": "code",
   "execution_count": 370,
   "id": "f320cc42",
   "metadata": {},
   "outputs": [],
   "source": [
    "df['INC_START_DAYS'] = df['INC_START'].sub(pd.to_datetime('01/01/1900')).dt.days"
   ]
  },
  {
   "cell_type": "code",
   "execution_count": 371,
   "id": "051019e9",
   "metadata": {},
   "outputs": [],
   "source": [
    "df['IP_END_DAYS'] = df['IP_END'].sub(pd.to_datetime('01/01/1900')).dt.days"
   ]
  },
  {
   "cell_type": "code",
   "execution_count": 372,
   "id": "54053a95",
   "metadata": {},
   "outputs": [],
   "source": [
    "df['IP_START_DAYS'] = df['IP_START'].sub(pd.to_datetime('01/01/1900')).dt.days"
   ]
  },
  {
   "cell_type": "code",
   "execution_count": 373,
   "id": "7cf6631b",
   "metadata": {},
   "outputs": [],
   "source": [
    "df['DOB_DAYS'] = df['dob'].sub(pd.to_datetime('01/01/1900')).dt.days"
   ]
  },
  {
   "cell_type": "code",
   "execution_count": 374,
   "id": "2edac05b",
   "metadata": {},
   "outputs": [],
   "source": [
    "df['DOS_DAYS'] = df['dos'].sub(pd.to_datetime('01/01/1900')).dt.days"
   ]
  },
  {
   "cell_type": "code",
   "execution_count": 375,
   "id": "80e2e716",
   "metadata": {},
   "outputs": [],
   "source": [
    "df['DOF_DAYS'] = df['dof'].sub(pd.to_datetime('01/01/1900')).dt.days"
   ]
  },
  {
   "cell_type": "code",
   "execution_count": 376,
   "id": "da202fe4",
   "metadata": {},
   "outputs": [],
   "source": [
    "#df['dob'][df['dob'].isnull() & df['DOB2'].notnull()]\n",
    "df.dob.fillna(df.DOB2, inplace=True)\n"
   ]
  },
  {
   "cell_type": "code",
   "execution_count": 377,
   "id": "5e2eaacd",
   "metadata": {},
   "outputs": [
    {
     "data": {
      "text/html": [
       "<div>\n",
       "<style scoped>\n",
       "    .dataframe tbody tr th:only-of-type {\n",
       "        vertical-align: middle;\n",
       "    }\n",
       "\n",
       "    .dataframe tbody tr th {\n",
       "        vertical-align: top;\n",
       "    }\n",
       "\n",
       "    .dataframe thead th {\n",
       "        text-align: right;\n",
       "    }\n",
       "</style>\n",
       "<table border=\"1\" class=\"dataframe\">\n",
       "  <thead>\n",
       "    <tr style=\"text-align: right;\">\n",
       "      <th></th>\n",
       "      <th>Unnamed: 0</th>\n",
       "      <th>JPR_ID</th>\n",
       "      <th>OFF_SEX</th>\n",
       "      <th>OFF_RACE</th>\n",
       "      <th>dofage</th>\n",
       "      <th>otn</th>\n",
       "      <th>OFN_TITLE</th>\n",
       "      <th>OFN_COUNT</th>\n",
       "      <th>OFN_LABEL</th>\n",
       "      <th>OFN_GRADE</th>\n",
       "      <th>...</th>\n",
       "      <th>MS_SENTJP</th>\n",
       "      <th>JP_CC_BUG</th>\n",
       "      <th>ofn_label</th>\n",
       "      <th>INC_END_DAYS</th>\n",
       "      <th>INC_START_DAYS</th>\n",
       "      <th>IP_END_DAYS</th>\n",
       "      <th>IP_START_DAYS</th>\n",
       "      <th>DOB_DAYS</th>\n",
       "      <th>DOS_DAYS</th>\n",
       "      <th>DOF_DAYS</th>\n",
       "    </tr>\n",
       "  </thead>\n",
       "  <tbody>\n",
       "    <tr>\n",
       "      <th>0</th>\n",
       "      <td>1</td>\n",
       "      <td>640001</td>\n",
       "      <td>0</td>\n",
       "      <td>1</td>\n",
       "      <td>36.689938</td>\n",
       "      <td>H182628-5</td>\n",
       "      <td>18</td>\n",
       "      <td>1</td>\n",
       "      <td>Corruption of Minors - when of a sexual nature</td>\n",
       "      <td>M-1</td>\n",
       "      <td>...</td>\n",
       "      <td>NaN</td>\n",
       "      <td>NaN</td>\n",
       "      <td>NaN</td>\n",
       "      <td>NaN</td>\n",
       "      <td>NaN</td>\n",
       "      <td>NaN</td>\n",
       "      <td>NaN</td>\n",
       "      <td>59739.0</td>\n",
       "      <td>37052</td>\n",
       "      <td>36615.0</td>\n",
       "    </tr>\n",
       "    <tr>\n",
       "      <th>1</th>\n",
       "      <td>2</td>\n",
       "      <td>642480</td>\n",
       "      <td>1</td>\n",
       "      <td>1</td>\n",
       "      <td>18.540726</td>\n",
       "      <td>0</td>\n",
       "      <td>75</td>\n",
       "      <td>1</td>\n",
       "      <td>DUI - M-2</td>\n",
       "      <td>M-2</td>\n",
       "      <td>...</td>\n",
       "      <td>NaN</td>\n",
       "      <td>NaN</td>\n",
       "      <td>NaN</td>\n",
       "      <td>37590.0</td>\n",
       "      <td>37226.0</td>\n",
       "      <td>NaN</td>\n",
       "      <td>NaN</td>\n",
       "      <td>29751.0</td>\n",
       "      <td>37226</td>\n",
       "      <td>36523.0</td>\n",
       "    </tr>\n",
       "    <tr>\n",
       "      <th>2</th>\n",
       "      <td>3</td>\n",
       "      <td>660434</td>\n",
       "      <td>1</td>\n",
       "      <td>1</td>\n",
       "      <td>36.914442</td>\n",
       "      <td>H3618344</td>\n",
       "      <td>75</td>\n",
       "      <td>1</td>\n",
       "      <td>DUI - M-2</td>\n",
       "      <td>M-2</td>\n",
       "      <td>...</td>\n",
       "      <td>NaN</td>\n",
       "      <td>NaN</td>\n",
       "      <td>NaN</td>\n",
       "      <td>37006.0</td>\n",
       "      <td>37005.0</td>\n",
       "      <td>NaN</td>\n",
       "      <td>NaN</td>\n",
       "      <td>59923.0</td>\n",
       "      <td>37005</td>\n",
       "      <td>36881.0</td>\n",
       "    </tr>\n",
       "    <tr>\n",
       "      <th>3</th>\n",
       "      <td>4</td>\n",
       "      <td>628940</td>\n",
       "      <td>1</td>\n",
       "      <td>2</td>\n",
       "      <td>22.297057</td>\n",
       "      <td>G0816126</td>\n",
       "      <td>18</td>\n",
       "      <td>1</td>\n",
       "      <td>Simple Assault</td>\n",
       "      <td>M-2</td>\n",
       "      <td>...</td>\n",
       "      <td>NaN</td>\n",
       "      <td>NaN</td>\n",
       "      <td>NaN</td>\n",
       "      <td>NaN</td>\n",
       "      <td>NaN</td>\n",
       "      <td>NaN</td>\n",
       "      <td>NaN</td>\n",
       "      <td>28557.0</td>\n",
       "      <td>37031</td>\n",
       "      <td>36701.0</td>\n",
       "    </tr>\n",
       "    <tr>\n",
       "      <th>4</th>\n",
       "      <td>5</td>\n",
       "      <td>594048</td>\n",
       "      <td>1</td>\n",
       "      <td>1</td>\n",
       "      <td>40.087611</td>\n",
       "      <td>H240127-6</td>\n",
       "      <td>75</td>\n",
       "      <td>1</td>\n",
       "      <td>DUI - M-1</td>\n",
       "      <td>M-1</td>\n",
       "      <td>...</td>\n",
       "      <td>NaN</td>\n",
       "      <td>NaN</td>\n",
       "      <td>NaN</td>\n",
       "      <td>37620.0</td>\n",
       "      <td>36892.0</td>\n",
       "      <td>NaN</td>\n",
       "      <td>NaN</td>\n",
       "      <td>58695.0</td>\n",
       "      <td>36892</td>\n",
       "      <td>36812.0</td>\n",
       "    </tr>\n",
       "  </tbody>\n",
       "</table>\n",
       "<p>5 rows × 55 columns</p>\n",
       "</div>"
      ],
      "text/plain": [
       "   Unnamed: 0  JPR_ID  OFF_SEX  OFF_RACE     dofage        otn  OFN_TITLE  \\\n",
       "0           1  640001        0         1  36.689938  H182628-5         18   \n",
       "1           2  642480        1         1  18.540726          0         75   \n",
       "2           3  660434        1         1  36.914442   H3618344         75   \n",
       "3           4  628940        1         2  22.297057   G0816126         18   \n",
       "4           5  594048        1         1  40.087611  H240127-6         75   \n",
       "\n",
       "  OFN_COUNT                                       OFN_LABEL OFN_GRADE  ...  \\\n",
       "0         1  Corruption of Minors - when of a sexual nature       M-1  ...   \n",
       "1         1                                       DUI - M-2       M-2  ...   \n",
       "2         1                                       DUI - M-2       M-2  ...   \n",
       "3         1                                  Simple Assault       M-2  ...   \n",
       "4         1                                       DUI - M-1       M-1  ...   \n",
       "\n",
       "   MS_SENTJP  JP_CC_BUG ofn_label INC_END_DAYS INC_START_DAYS  IP_END_DAYS  \\\n",
       "0        NaN        NaN       NaN          NaN            NaN          NaN   \n",
       "1        NaN        NaN       NaN      37590.0        37226.0          NaN   \n",
       "2        NaN        NaN       NaN      37006.0        37005.0          NaN   \n",
       "3        NaN        NaN       NaN          NaN            NaN          NaN   \n",
       "4        NaN        NaN       NaN      37620.0        36892.0          NaN   \n",
       "\n",
       "   IP_START_DAYS  DOB_DAYS  DOS_DAYS  DOF_DAYS  \n",
       "0            NaN   59739.0     37052   36615.0  \n",
       "1            NaN   29751.0     37226   36523.0  \n",
       "2            NaN   59923.0     37005   36881.0  \n",
       "3            NaN   28557.0     37031   36701.0  \n",
       "4            NaN   58695.0     36892   36812.0  \n",
       "\n",
       "[5 rows x 55 columns]"
      ]
     },
     "execution_count": 377,
     "metadata": {},
     "output_type": "execute_result"
    }
   ],
   "source": [
    "df.head()"
   ]
  },
  {
   "cell_type": "code",
   "execution_count": 378,
   "id": "5155dc9b",
   "metadata": {},
   "outputs": [],
   "source": [
    "df['OFFENSE_YEAR'] = df['dof'].dt.year"
   ]
  },
  {
   "cell_type": "code",
   "execution_count": 379,
   "id": "26bad1e4",
   "metadata": {},
   "outputs": [],
   "source": [
    "df['SANCTION_YEAR'] = df['dos'].dt.year"
   ]
  },
  {
   "cell_type": "code",
   "execution_count": 383,
   "id": "9edcbac7",
   "metadata": {},
   "outputs": [],
   "source": [
    "df['BIRTH_YEAR'] = df['dob'].dt.year"
   ]
  },
  {
   "cell_type": "code",
   "execution_count": 384,
   "id": "e7d1781a",
   "metadata": {},
   "outputs": [],
   "source": [
    "cols = list(df.columns.values)"
   ]
  },
  {
   "cell_type": "code",
   "execution_count": null,
   "id": "724a0c8d",
   "metadata": {},
   "outputs": [],
   "source": []
  },
  {
   "cell_type": "code",
   "execution_count": null,
   "id": "f9fb8db7",
   "metadata": {},
   "outputs": [],
   "source": []
  },
  {
   "cell_type": "code",
   "execution_count": 385,
   "id": "75307419",
   "metadata": {},
   "outputs": [],
   "source": [
    "cols = list(df.columns.values)"
   ]
  },
  {
   "cell_type": "code",
   "execution_count": 386,
   "id": "1028dd1e",
   "metadata": {},
   "outputs": [
    {
     "data": {
      "text/plain": [
       "['Unnamed: 0',\n",
       " 'JPR_ID',\n",
       " 'OFF_SEX',\n",
       " 'OFF_RACE',\n",
       " 'dofage',\n",
       " 'otn',\n",
       " 'OFN_TITLE',\n",
       " 'OFN_COUNT',\n",
       " 'OFN_LABEL',\n",
       " 'OFN_GRADE',\n",
       " 'grade',\n",
       " 'ogs',\n",
       " 'prs',\n",
       " 'GUIDELINE_RANGE',\n",
       " 'SGR_LVL',\n",
       " 'INC_SANCTION_EXISTS',\n",
       " 'INC_TYPE',\n",
       " 'incmin',\n",
       " 'incmax',\n",
       " 'INC_RELATIONSHIP',\n",
       " 'INC_RELATEDTO',\n",
       " 'INC_RELATEDOTN',\n",
       " 'STATE_IP',\n",
       " 'IP_SANCTION_EXISTS',\n",
       " 'PROB_SANCTION_EXISTS',\n",
       " 'county',\n",
       " 'JPO_ID',\n",
       " 'glepoch',\n",
       " 'sip',\n",
       " 'MS_SANCTION',\n",
       " 'dof',\n",
       " 'dos',\n",
       " 'INC_END',\n",
       " 'INC_START',\n",
       " 'IP_END',\n",
       " 'IP_START',\n",
       " 'dob',\n",
       " 'OFF_AGE',\n",
       " 'id_variable',\n",
       " 'PCS_OFF_ID',\n",
       " 'conform',\n",
       " 'OFF_CRIMEFREE',\n",
       " 'SGR_LVL_OGS_PRS',\n",
       " 'DOB2',\n",
       " 'MS_OFFBODY',\n",
       " 'MS_SENTJP',\n",
       " 'JP_CC_BUG',\n",
       " 'ofn_label',\n",
       " 'INC_END_DAYS',\n",
       " 'INC_START_DAYS',\n",
       " 'IP_END_DAYS',\n",
       " 'IP_START_DAYS',\n",
       " 'DOB_DAYS',\n",
       " 'DOS_DAYS',\n",
       " 'DOF_DAYS',\n",
       " 'OFFENSE_YEAR',\n",
       " 'SANCTION_YEAR',\n",
       " 'BIRTH_YEAR']"
      ]
     },
     "execution_count": 386,
     "metadata": {},
     "output_type": "execute_result"
    }
   ],
   "source": [
    "cols"
   ]
  },
  {
   "cell_type": "code",
   "execution_count": 387,
   "id": "bb7706cb",
   "metadata": {},
   "outputs": [],
   "source": [
    "df = df[[\n",
    " 'JPR_ID',\n",
    " 'OFF_SEX',\n",
    " 'OFF_RACE',\n",
    " 'dofage',\n",
    " 'otn',\n",
    " 'OFN_TITLE',\n",
    " 'OFN_COUNT',\n",
    " 'OFN_LABEL',\n",
    " 'OFN_GRADE',\n",
    " 'grade',\n",
    " 'ogs',\n",
    " 'prs',\n",
    " 'GUIDELINE_RANGE',\n",
    " 'SGR_LVL',\n",
    " 'INC_SANCTION_EXISTS',\n",
    " 'INC_TYPE',\n",
    " 'incmin',\n",
    " 'incmax',\n",
    " 'INC_RELATIONSHIP',\n",
    " 'INC_RELATEDTO',\n",
    " 'INC_RELATEDOTN',\n",
    " 'STATE_IP',\n",
    " 'IP_SANCTION_EXISTS',\n",
    " 'PROB_SANCTION_EXISTS',\n",
    " 'county',\n",
    " 'JPO_ID',\n",
    " 'glepoch',\n",
    " 'sip',\n",
    " 'MS_SANCTION',\n",
    " 'dof',\n",
    "'DOF_DAYS',\n",
    " 'OFFENSE_YEAR',\n",
    " 'dos',\n",
    "          'DOS_DAYS',\n",
    " 'SANCTION_YEAR',\n",
    " 'INC_END',\n",
    "          'INC_END_DAYS',\n",
    "          'INC_START_DAYS',\n",
    " 'INC_START',\n",
    " 'IP_END',\n",
    "     'IP_END_DAYS',\n",
    " 'IP_START',\n",
    "    \n",
    "\n",
    " 'IP_START_DAYS',\n",
    " 'dob',\n",
    "'DOB_DAYS', 'BIRTH_YEAR',\n",
    " 'OFF_AGE',\n",
    " 'id_variable',\n",
    " 'PCS_OFF_ID',\n",
    " 'conform',\n",
    " 'OFF_CRIMEFREE',\n",
    " 'SGR_LVL_OGS_PRS',\n",
    " 'DOB2',\n",
    " 'MS_OFFBODY',\n",
    " 'MS_SENTJP',\n",
    " 'JP_CC_BUG',\n",
    " 'ofn_label'\n",
    " ]]"
   ]
  },
  {
   "cell_type": "code",
   "execution_count": 388,
   "id": "c4f2d4b0",
   "metadata": {},
   "outputs": [],
   "source": [
    "df.to_csv('cleaned.csv')"
   ]
  },
  {
   "cell_type": "code",
   "execution_count": null,
   "id": "d7a85b28",
   "metadata": {},
   "outputs": [],
   "source": []
  }
 ],
 "metadata": {
  "kernelspec": {
   "display_name": "Python 3",
   "language": "python",
   "name": "python3"
  },
  "language_info": {
   "codemirror_mode": {
    "name": "ipython",
    "version": 3
   },
   "file_extension": ".py",
   "mimetype": "text/x-python",
   "name": "python",
   "nbconvert_exporter": "python",
   "pygments_lexer": "ipython3",
   "version": "3.8.5"
  }
 },
 "nbformat": 4,
 "nbformat_minor": 5
}
